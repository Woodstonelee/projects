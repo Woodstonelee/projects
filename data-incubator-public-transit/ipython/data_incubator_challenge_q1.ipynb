{
 "cells": [
  {
   "cell_type": "code",
   "execution_count": 63,
   "metadata": {
    "collapsed": true
   },
   "outputs": [],
   "source": [
    "import numpy as np"
   ]
  },
  {
   "cell_type": "code",
   "execution_count": 72,
   "metadata": {
    "collapsed": false
   },
   "outputs": [],
   "source": [
    "def dice_roll_sum(M):\n",
    "    \"\"\"\n",
    "    Find how many times of dice rolling to get a sum of dice rolls equal to or greater than M\n",
    "    \n",
    "    Args: \n",
    "        M (scalar, integer)\n",
    "        \n",
    "    Returns: \n",
    "        roll_count (scalar, integer): times of dice rolling when sum of dice rolls are equal or greater than M\n",
    "        dice_sum (scalar, integer): sum of dice rolls\n",
    "    \"\"\"\n",
    "    blocksize = np.fix(M/np.mean(np.arange(6)+1))\n",
    "    \n",
    "    dice_sum = 0\n",
    "    roll_count = 0\n",
    "    while True: \n",
    "        tmp_sum = dice_sum + np.cumsum(np.random.randint(1, 7, blocksize))\n",
    "        if tmp_sum[-1] < M:\n",
    "            dice_sum = tmp_sum[-1]\n",
    "            roll_count += blocksize\n",
    "        else:\n",
    "            tmp_idx = np.where(tmp_sum>=M)[0][0]\n",
    "            dice_sum = tmp_sum[tmp_idx]\n",
    "            roll_count += tmp_idx+1\n",
    "            break\n",
    "    return roll_count, dice_sum"
   ]
  },
  {
   "cell_type": "code",
   "execution_count": 73,
   "metadata": {
    "collapsed": true
   },
   "outputs": [],
   "source": [
    "def dice_experiment(M, n_trials=int(1e4)):\n",
    "    \"\"\"\n",
    "    Calculate stats for dice rolling experiment of challenge question 1\n",
    "    \"\"\"\n",
    "    trials = [ dice_roll_sum(M) for _ in range(n_trials) ]\n",
    "    roll_count, dice_sum = zip(*trials)\n",
    "    roll_count = np.array(roll_count)\n",
    "    dice_sum = np.array(dice_sum)\n",
    "    return {'mean':np.mean(roll_count), 'std':np.std(roll_count)}, \\\n",
    "        {'mean':np.mean(dice_sum), 'std':np.std(dice_sum)}"
   ]
  },
  {
   "cell_type": "code",
   "execution_count": 74,
   "metadata": {
    "collapsed": false
   },
   "outputs": [
    {
     "data": {
      "text/plain": [
       "({'mean': 6.1848000000000001, 'std': 1.2154213096700255},\n",
       " {'mean': 21.656600000000001, 'std': 1.4788091289953547})"
      ]
     },
     "execution_count": 74,
     "metadata": {},
     "output_type": "execute_result"
    }
   ],
   "source": [
    "dice_experiment(20)"
   ]
  },
  {
   "cell_type": "code",
   "execution_count": 75,
   "metadata": {
    "collapsed": false
   },
   "outputs": [
    {
     "data": {
      "text/plain": [
       "({'mean': 2857.9256999999998, 'std': 26.09462740699702},\n",
       " {'mean': 10001.6639, 'std': 1.4877287353546682})"
      ]
     },
     "execution_count": 75,
     "metadata": {},
     "output_type": "execute_result"
    }
   ],
   "source": [
    "dice_experiment(10000)"
   ]
  },
  {
   "cell_type": "code",
   "execution_count": null,
   "metadata": {
    "collapsed": true
   },
   "outputs": [],
   "source": []
  }
 ],
 "metadata": {
  "kernelspec": {
   "display_name": "Python 2",
   "language": "python",
   "name": "python2"
  },
  "language_info": {
   "codemirror_mode": {
    "name": "ipython",
    "version": 2
   },
   "file_extension": ".py",
   "mimetype": "text/x-python",
   "name": "python",
   "nbconvert_exporter": "python",
   "pygments_lexer": "ipython2",
   "version": "2.7.9"
  }
 },
 "nbformat": 4,
 "nbformat_minor": 0
}
