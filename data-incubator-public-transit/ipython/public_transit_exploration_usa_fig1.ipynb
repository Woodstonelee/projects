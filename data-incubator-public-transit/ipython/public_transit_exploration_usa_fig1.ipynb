{
 "cells": [
  {
   "cell_type": "markdown",
   "metadata": {},
   "source": [
    "# Explore Public Transportation in USA\n",
    "## *Year of 2012*\n",
    "\n",
    "## _Figure 1_:\n",
    "**What was the capacity of public transportation service provided by different transit modes and comsumed by residents?**\n",
    "\n",
    "## Data source list:\n",
    "\n",
    "* Data of public transportation from National Transit Database\n",
    "\n",
    "## Glossary\n",
    "* Transit mode\n",
    "  * AR: In recognition of the special Federal relationship with the Alaska Railroad (AR), the passenger service portion of the Alaska Railroad (AR) is considered eligible for certain FTA funding under the Fixed Guideway Modernization program. The service encompasses only car miles for passenger cars; car miles for freight cars are specifically excluded.\n",
    "  * CB: Commuter Bus\n",
    "  * CC: Cable Car\n",
    "  * CR: Commuter Rail\n",
    "  * DR: Demand Response\n",
    "  * DT: A special form of the demand response mode operated through taxicab providers. The mode is always purchased transportation type of service.\n",
    "  * FB: Ferryboat\n",
    "  * HR: Heavy Rail\n",
    "  * IP: Inclined Plane\n",
    "  * LR: A transit mode that typically is an electric railway with a light volume traffic capacity compared to heavy rail (HR)\n",
    "  * MB: Bus\n",
    "  * MG: Monorail and Automated Guideway modes\n",
    "  * PB: Publico\n",
    "  * RB: Bus Rapid Transit\n",
    "  * SR: Streetcar Rail\n",
    "  * TB: Trolleybus\n",
    "  * VP: A transit mode comprised of vans, small buses and other vehicles operating as a ride sharing arrangement, providing transportation to a group of individuals traveling directly between their homes and a regular destination within the same geographical area. \n",
    "  * YR: Hybrid Rail"
   ]
  },
  {
   "cell_type": "code",
   "execution_count": 1,
   "metadata": {
    "collapsed": false
   },
   "outputs": [
    {
     "ename": "ImportError",
     "evalue": "libpng15.so.15: cannot open shared object file: No such file or directory",
     "output_type": "error",
     "traceback": [
      "\u001b[1;31m---------------------------------------------------------------------------\u001b[0m",
      "\u001b[1;31mImportError\u001b[0m                               Traceback (most recent call last)",
      "\u001b[1;32m<ipython-input-1-3b117343005e>\u001b[0m in \u001b[0;36m<module>\u001b[1;34m()\u001b[0m\n\u001b[0;32m      1\u001b[0m \u001b[1;32mimport\u001b[0m \u001b[0mnumpy\u001b[0m \u001b[1;32mas\u001b[0m \u001b[0mnp\u001b[0m\u001b[1;33m\u001b[0m\u001b[0m\n\u001b[0;32m      2\u001b[0m \u001b[1;32mimport\u001b[0m \u001b[0mpandas\u001b[0m \u001b[1;32mas\u001b[0m \u001b[0mpd\u001b[0m\u001b[1;33m\u001b[0m\u001b[0m\n\u001b[1;32m----> 3\u001b[1;33m \u001b[1;32mimport\u001b[0m \u001b[0mmatplotlib\u001b[0m\u001b[1;33m.\u001b[0m\u001b[0mpyplot\u001b[0m \u001b[1;32mas\u001b[0m \u001b[0mplt\u001b[0m\u001b[1;33m\u001b[0m\u001b[0m\n\u001b[0m\u001b[0;32m      4\u001b[0m \u001b[0mget_ipython\u001b[0m\u001b[1;33m(\u001b[0m\u001b[1;33m)\u001b[0m\u001b[1;33m.\u001b[0m\u001b[0mmagic\u001b[0m\u001b[1;33m(\u001b[0m\u001b[1;34mu'matplotlib inline'\u001b[0m\u001b[1;33m)\u001b[0m\u001b[1;33m\u001b[0m\u001b[0m\n\u001b[0;32m      5\u001b[0m \u001b[1;32mimport\u001b[0m \u001b[0mseaborn\u001b[0m \u001b[1;32mas\u001b[0m \u001b[0msns\u001b[0m\u001b[1;33m\u001b[0m\u001b[0m\n",
      "\u001b[1;32m/usr3/graduate/zhanli86/anaconda_envs/zhanli_py27/lib/python2.7/site-packages/matplotlib/pyplot.py\u001b[0m in \u001b[0;36m<module>\u001b[1;34m()\u001b[0m\n\u001b[0;32m     25\u001b[0m \u001b[1;33m\u001b[0m\u001b[0m\n\u001b[0;32m     26\u001b[0m \u001b[1;32mimport\u001b[0m \u001b[0mmatplotlib\u001b[0m\u001b[1;33m\u001b[0m\u001b[0m\n\u001b[1;32m---> 27\u001b[1;33m \u001b[1;32mimport\u001b[0m \u001b[0mmatplotlib\u001b[0m\u001b[1;33m.\u001b[0m\u001b[0mcolorbar\u001b[0m\u001b[1;33m\u001b[0m\u001b[0m\n\u001b[0m\u001b[0;32m     28\u001b[0m \u001b[1;32mfrom\u001b[0m \u001b[0mmatplotlib\u001b[0m \u001b[1;32mimport\u001b[0m \u001b[0mstyle\u001b[0m\u001b[1;33m\u001b[0m\u001b[0m\n\u001b[0;32m     29\u001b[0m \u001b[1;32mfrom\u001b[0m \u001b[0mmatplotlib\u001b[0m \u001b[1;32mimport\u001b[0m \u001b[0m_pylab_helpers\u001b[0m\u001b[1;33m,\u001b[0m \u001b[0minteractive\u001b[0m\u001b[1;33m\u001b[0m\u001b[0m\n",
      "\u001b[1;32m/usr3/graduate/zhanli86/anaconda_envs/zhanli_py27/lib/python2.7/site-packages/matplotlib/colorbar.py\u001b[0m in \u001b[0;36m<module>\u001b[1;34m()\u001b[0m\n\u001b[0;32m     32\u001b[0m \u001b[1;32mimport\u001b[0m \u001b[0mmatplotlib\u001b[0m\u001b[1;33m.\u001b[0m\u001b[0martist\u001b[0m \u001b[1;32mas\u001b[0m \u001b[0mmartist\u001b[0m\u001b[1;33m\u001b[0m\u001b[0m\n\u001b[0;32m     33\u001b[0m \u001b[1;32mimport\u001b[0m \u001b[0mmatplotlib\u001b[0m\u001b[1;33m.\u001b[0m\u001b[0mcbook\u001b[0m \u001b[1;32mas\u001b[0m \u001b[0mcbook\u001b[0m\u001b[1;33m\u001b[0m\u001b[0m\n\u001b[1;32m---> 34\u001b[1;33m \u001b[1;32mimport\u001b[0m \u001b[0mmatplotlib\u001b[0m\u001b[1;33m.\u001b[0m\u001b[0mcollections\u001b[0m \u001b[1;32mas\u001b[0m \u001b[0mcollections\u001b[0m\u001b[1;33m\u001b[0m\u001b[0m\n\u001b[0m\u001b[0;32m     35\u001b[0m \u001b[1;32mimport\u001b[0m \u001b[0mmatplotlib\u001b[0m\u001b[1;33m.\u001b[0m\u001b[0mcolors\u001b[0m \u001b[1;32mas\u001b[0m \u001b[0mcolors\u001b[0m\u001b[1;33m\u001b[0m\u001b[0m\n\u001b[0;32m     36\u001b[0m \u001b[1;32mimport\u001b[0m \u001b[0mmatplotlib\u001b[0m\u001b[1;33m.\u001b[0m\u001b[0mcontour\u001b[0m \u001b[1;32mas\u001b[0m \u001b[0mcontour\u001b[0m\u001b[1;33m\u001b[0m\u001b[0m\n",
      "\u001b[1;32m/usr3/graduate/zhanli86/anaconda_envs/zhanli_py27/lib/python2.7/site-packages/matplotlib/collections.py\u001b[0m in \u001b[0;36m<module>\u001b[1;34m()\u001b[0m\n\u001b[0;32m     25\u001b[0m \u001b[1;32mimport\u001b[0m \u001b[0mmatplotlib\u001b[0m\u001b[1;33m.\u001b[0m\u001b[0martist\u001b[0m \u001b[1;32mas\u001b[0m \u001b[0martist\u001b[0m\u001b[1;33m\u001b[0m\u001b[0m\n\u001b[0;32m     26\u001b[0m \u001b[1;32mfrom\u001b[0m \u001b[0mmatplotlib\u001b[0m\u001b[1;33m.\u001b[0m\u001b[0martist\u001b[0m \u001b[1;32mimport\u001b[0m \u001b[0mallow_rasterization\u001b[0m\u001b[1;33m\u001b[0m\u001b[0m\n\u001b[1;32m---> 27\u001b[1;33m \u001b[1;32mimport\u001b[0m \u001b[0mmatplotlib\u001b[0m\u001b[1;33m.\u001b[0m\u001b[0mbackend_bases\u001b[0m \u001b[1;32mas\u001b[0m \u001b[0mbackend_bases\u001b[0m\u001b[1;33m\u001b[0m\u001b[0m\n\u001b[0m\u001b[0;32m     28\u001b[0m \u001b[1;32mimport\u001b[0m \u001b[0mmatplotlib\u001b[0m\u001b[1;33m.\u001b[0m\u001b[0mpath\u001b[0m \u001b[1;32mas\u001b[0m \u001b[0mmpath\u001b[0m\u001b[1;33m\u001b[0m\u001b[0m\n\u001b[0;32m     29\u001b[0m \u001b[1;32mfrom\u001b[0m \u001b[0mmatplotlib\u001b[0m \u001b[1;32mimport\u001b[0m \u001b[0m_path\u001b[0m\u001b[1;33m\u001b[0m\u001b[0m\n",
      "\u001b[1;32m/usr3/graduate/zhanli86/anaconda_envs/zhanli_py27/lib/python2.7/site-packages/matplotlib/backend_bases.py\u001b[0m in \u001b[0;36m<module>\u001b[1;34m()\u001b[0m\n\u001b[0;32m     54\u001b[0m \u001b[1;33m\u001b[0m\u001b[0m\n\u001b[0;32m     55\u001b[0m \u001b[1;32mimport\u001b[0m \u001b[0mmatplotlib\u001b[0m\u001b[1;33m.\u001b[0m\u001b[0mtight_bbox\u001b[0m \u001b[1;32mas\u001b[0m \u001b[0mtight_bbox\u001b[0m\u001b[1;33m\u001b[0m\u001b[0m\n\u001b[1;32m---> 56\u001b[1;33m \u001b[1;32mimport\u001b[0m \u001b[0mmatplotlib\u001b[0m\u001b[1;33m.\u001b[0m\u001b[0mtextpath\u001b[0m \u001b[1;32mas\u001b[0m \u001b[0mtextpath\u001b[0m\u001b[1;33m\u001b[0m\u001b[0m\n\u001b[0m\u001b[0;32m     57\u001b[0m \u001b[1;32mfrom\u001b[0m \u001b[0mmatplotlib\u001b[0m\u001b[1;33m.\u001b[0m\u001b[0mpath\u001b[0m \u001b[1;32mimport\u001b[0m \u001b[0mPath\u001b[0m\u001b[1;33m\u001b[0m\u001b[0m\n\u001b[0;32m     58\u001b[0m \u001b[1;32mfrom\u001b[0m \u001b[0mmatplotlib\u001b[0m\u001b[1;33m.\u001b[0m\u001b[0mcbook\u001b[0m \u001b[1;32mimport\u001b[0m \u001b[0mmplDeprecation\u001b[0m\u001b[1;33m\u001b[0m\u001b[0m\n",
      "\u001b[1;32m/usr3/graduate/zhanli86/anaconda_envs/zhanli_py27/lib/python2.7/site-packages/matplotlib/textpath.py\u001b[0m in \u001b[0;36m<module>\u001b[1;34m()\u001b[0m\n\u001b[0;32m     20\u001b[0m \u001b[1;32mfrom\u001b[0m \u001b[0mmatplotlib\u001b[0m\u001b[1;33m.\u001b[0m\u001b[0mft2font\u001b[0m \u001b[1;32mimport\u001b[0m \u001b[0mFT2Font\u001b[0m\u001b[1;33m,\u001b[0m \u001b[0mKERNING_DEFAULT\u001b[0m\u001b[1;33m,\u001b[0m \u001b[0mLOAD_NO_HINTING\u001b[0m\u001b[1;33m\u001b[0m\u001b[0m\n\u001b[0;32m     21\u001b[0m \u001b[1;32mfrom\u001b[0m \u001b[0mmatplotlib\u001b[0m\u001b[1;33m.\u001b[0m\u001b[0mft2font\u001b[0m \u001b[1;32mimport\u001b[0m \u001b[0mLOAD_TARGET_LIGHT\u001b[0m\u001b[1;33m\u001b[0m\u001b[0m\n\u001b[1;32m---> 22\u001b[1;33m \u001b[1;32mfrom\u001b[0m \u001b[0mmatplotlib\u001b[0m\u001b[1;33m.\u001b[0m\u001b[0mmathtext\u001b[0m \u001b[1;32mimport\u001b[0m \u001b[0mMathTextParser\u001b[0m\u001b[1;33m\u001b[0m\u001b[0m\n\u001b[0m\u001b[0;32m     23\u001b[0m \u001b[1;32mimport\u001b[0m \u001b[0mmatplotlib\u001b[0m\u001b[1;33m.\u001b[0m\u001b[0mdviread\u001b[0m \u001b[1;32mas\u001b[0m \u001b[0mdviread\u001b[0m\u001b[1;33m\u001b[0m\u001b[0m\n\u001b[0;32m     24\u001b[0m \u001b[1;32mfrom\u001b[0m \u001b[0mmatplotlib\u001b[0m\u001b[1;33m.\u001b[0m\u001b[0mfont_manager\u001b[0m \u001b[1;32mimport\u001b[0m \u001b[0mFontProperties\u001b[0m\u001b[1;33m\u001b[0m\u001b[0m\n",
      "\u001b[1;32m/usr3/graduate/zhanli86/anaconda_envs/zhanli_py27/lib/python2.7/site-packages/matplotlib/mathtext.py\u001b[0m in \u001b[0;36m<module>\u001b[1;34m()\u001b[0m\n\u001b[0;32m     61\u001b[0m \u001b[1;33m\u001b[0m\u001b[0m\n\u001b[0;32m     62\u001b[0m \u001b[1;32mimport\u001b[0m \u001b[0mmatplotlib\u001b[0m\u001b[1;33m.\u001b[0m\u001b[0mcolors\u001b[0m \u001b[1;32mas\u001b[0m \u001b[0mmcolors\u001b[0m\u001b[1;33m\u001b[0m\u001b[0m\n\u001b[1;32m---> 63\u001b[1;33m \u001b[1;32mimport\u001b[0m \u001b[0mmatplotlib\u001b[0m\u001b[1;33m.\u001b[0m\u001b[0m_png\u001b[0m \u001b[1;32mas\u001b[0m \u001b[0m_png\u001b[0m\u001b[1;33m\u001b[0m\u001b[0m\n\u001b[0m\u001b[0;32m     64\u001b[0m \u001b[1;31m####################\u001b[0m\u001b[1;33m\u001b[0m\u001b[1;33m\u001b[0m\u001b[0m\n\u001b[0;32m     65\u001b[0m \u001b[1;33m\u001b[0m\u001b[0m\n",
      "\u001b[1;31mImportError\u001b[0m: libpng15.so.15: cannot open shared object file: No such file or directory"
     ]
    }
   ],
   "source": [
    "import numpy as np\n",
    "import pandas as pd\n",
    "import matplotlib.pyplot as plt\n",
    "%matplotlib inline\n",
    "import seaborn as sns\n",
    "sns.set_style('darkgrid')"
   ]
  },
  {
   "cell_type": "code",
   "execution_count": 2,
   "metadata": {
    "collapsed": false
   },
   "outputs": [],
   "source": [
    "# NTD data of service\n",
    "ntd_service_xls = \"../data/ntd/2012/2012_Service.xls\"\n",
    "ntd_service_df = pd.read_excel(ntd_service_xls)"
   ]
  },
  {
   "cell_type": "code",
   "execution_count": 3,
   "metadata": {
    "collapsed": false
   },
   "outputs": [],
   "source": [
    "select_flag = np.logical_and.reduce((ntd_service_df.loc[:, 'Time_Period_Desc']=='Annual Total', \\\n",
    "                                     ~np.isnan(ntd_service_df.loc[:, 'Pass_Car_Rev_Miles_Num']), \\\n",
    "                                     ~np.isnan(ntd_service_df.loc[:, 'Passenger_Miles_Num'])))\n",
    "\n",
    "ntd_service_df = ntd_service_df.loc[select_flag, :]\n",
    "grouped_ntd_service = ntd_service_df.loc[:, ['Trs_Id', \\\n",
    "                                             'Mode_Cd', \\\n",
    "                                             'Pass_Car_Rev_Miles_Num', \\\n",
    "                                             'Passenger_Miles_Num']].groupby(['Trs_Id', 'Mode_Cd'])"
   ]
  },
  {
   "cell_type": "code",
   "execution_count": 4,
   "metadata": {
    "collapsed": false
   },
   "outputs": [],
   "source": [
    "grouped_ntd_service_agg = grouped_ntd_service.aggregate(np.sum)"
   ]
  },
  {
   "cell_type": "code",
   "execution_count": 5,
   "metadata": {
    "collapsed": false
   },
   "outputs": [],
   "source": [
    "idx = grouped_ntd_service_agg.index.names.index('Mode_Cd')\n",
    "grouped_ntd_service_agg = grouped_ntd_service_agg.reset_index('Mode_Cd')"
   ]
  },
  {
   "cell_type": "code",
   "execution_count": 6,
   "metadata": {
    "collapsed": false
   },
   "outputs": [
    {
     "data": {
      "image/png": "[encoded data removed]",
      "text/plain": [
       "<matplotlib.figure.Figure at 0x7ffa27f14710>"
      ]
     },
     "metadata": {},
     "output_type": "display_data"
    }
   ],
   "source": [
    "# Plot vehicle revenue miles against passenger miles for different transit modes\n",
    "g = sns.PairGrid(grouped_ntd_service_agg, hue='Mode_Cd', size=5)\n",
    "g.map_diag(plt.hist, bins=10, log=True)\n",
    "g.map_offdiag(plt.scatter)\n",
    "for ga in g.axes.flatten().tolist():\n",
    "    ga.set_xlim((0, ga.get_xlim()[1]))\n",
    "    ga.set_ylim((0, ga.get_ylim()[1]))\n",
    "g.add_legend()"
   ]
  },
  {
   "cell_type": "code",
   "execution_count": 7,
   "metadata": {
    "collapsed": false
   },
   "outputs": [],
   "source": [
    "# find the transit agency with exceptionally large HR-mode miles\n",
    "target_idx = np.where(grouped_ntd_service_agg['Passenger_Miles_Num']>0.9e10)[0][0]\n",
    "target_trs_id = grouped_ntd_service_agg.index.get_level_values(0)[target_idx]"
   ]
  },
  {
   "cell_type": "code",
   "execution_count": 8,
   "metadata": {
    "collapsed": true
   },
   "outputs": [],
   "source": [
    "# read NTD transit agency information\n",
    "# ntd_agency_info_xls = \"../data/ntd/2012/2012_Agency_Information\"\n",
    "ntd_agency_info_xls = \"http://www.ntdprogram.gov/ntdprogram/datbase/2012_database/2012_Agency_Information.xls\"\n",
    "ntd_agency_info_df = pd.read_excel(ntd_agency_info_xls)"
   ]
  },
  {
   "cell_type": "code",
   "execution_count": 9,
   "metadata": {
    "collapsed": false
   },
   "outputs": [
    {
     "data": {
      "text/html": [
       "<div style=\"max-height:1000px;max-width:1500px;overflow:auto;\">\n",
       "<table border=\"1\" class=\"dataframe\">\n",
       "  <thead>\n",
       "    <tr style=\"text-align: right;\">\n",
       "      <th></th>\n",
       "      <th>106</th>\n",
       "    </tr>\n",
       "  </thead>\n",
       "  <tbody>\n",
       "    <tr>\n",
       "      <th>Trs_Id</th>\n",
       "      <td>                                              2008</td>\n",
       "    </tr>\n",
       "    <tr>\n",
       "      <th>Company_Nm</th>\n",
       "      <td>                         MTA New York City Transit</td>\n",
       "    </tr>\n",
       "    <tr>\n",
       "      <th>Logo_Cd</th>\n",
       "      <td>                                              NYCT</td>\n",
       "    </tr>\n",
       "    <tr>\n",
       "      <th>Agency_Active_Fl</th>\n",
       "      <td>                                                 A</td>\n",
       "    </tr>\n",
       "    <tr>\n",
       "      <th>Agency_Type_Desc</th>\n",
       "      <td> 2. Subsidiary unit of a transit agency, report...</td>\n",
       "    </tr>\n",
       "    <tr>\n",
       "      <th>Org_Type</th>\n",
       "      <td>                                        Subsidiary</td>\n",
       "    </tr>\n",
       "    <tr>\n",
       "      <th>Organization_Type_Desc</th>\n",
       "      <td>                                               NaN</td>\n",
       "    </tr>\n",
       "    <tr>\n",
       "      <th>Institutional_Structure_Desc</th>\n",
       "      <td>                                               NaN</td>\n",
       "    </tr>\n",
       "    <tr>\n",
       "      <th>Fy_Day_Num</th>\n",
       "      <td>                               2012-12-31 00:00:00</td>\n",
       "    </tr>\n",
       "    <tr>\n",
       "      <th>NTD_Report_Due</th>\n",
       "      <td>                               2013-04-29 00:00:00</td>\n",
       "    </tr>\n",
       "    <tr>\n",
       "      <th>Street1_Nm</th>\n",
       "      <td>                                        2 Broadway</td>\n",
       "    </tr>\n",
       "    <tr>\n",
       "      <th>Street2_Nm</th>\n",
       "      <td>                                               NaN</td>\n",
       "    </tr>\n",
       "    <tr>\n",
       "      <th>City_Nm</th>\n",
       "      <td>                                          New York</td>\n",
       "    </tr>\n",
       "    <tr>\n",
       "      <th>State_Desc</th>\n",
       "      <td>                                                NY</td>\n",
       "    </tr>\n",
       "    <tr>\n",
       "      <th>Zip_Cd</th>\n",
       "      <td>                                             10004</td>\n",
       "    </tr>\n",
       "    <tr>\n",
       "      <th>Zip_4_Cd</th>\n",
       "      <td>                                               NaN</td>\n",
       "    </tr>\n",
       "    <tr>\n",
       "      <th>Po_Box</th>\n",
       "      <td>                                               NaN</td>\n",
       "    </tr>\n",
       "    <tr>\n",
       "      <th>FTA_Region</th>\n",
       "      <td>                                                 2</td>\n",
       "    </tr>\n",
       "    <tr>\n",
       "      <th>Url_Cd</th>\n",
       "      <td>                                      www.mta.info</td>\n",
       "    </tr>\n",
       "    <tr>\n",
       "      <th>FTAvc_Cd</th>\n",
       "      <td>                                              1786</td>\n",
       "    </tr>\n",
       "    <tr>\n",
       "      <th>Duns_Num</th>\n",
       "      <td>                                           9702853</td>\n",
       "    </tr>\n",
       "    <tr>\n",
       "      <th>Service_Area</th>\n",
       "      <td>                                               321</td>\n",
       "    </tr>\n",
       "    <tr>\n",
       "      <th>Service_Area_Population</th>\n",
       "      <td>                                           8008278</td>\n",
       "    </tr>\n",
       "    <tr>\n",
       "      <th>UZA_Cd</th>\n",
       "      <td>                                                 1</td>\n",
       "    </tr>\n",
       "    <tr>\n",
       "      <th>UZA_Nm</th>\n",
       "      <td>                         New York-Newark, NY-NJ-CT</td>\n",
       "    </tr>\n",
       "    <tr>\n",
       "      <th>Population_Num</th>\n",
       "      <td>                                          18351295</td>\n",
       "    </tr>\n",
       "    <tr>\n",
       "      <th>Density_Num</th>\n",
       "      <td>                                              5319</td>\n",
       "    </tr>\n",
       "    <tr>\n",
       "      <th>Sqmiles_Num</th>\n",
       "      <td>                                              3450</td>\n",
       "    </tr>\n",
       "    <tr>\n",
       "      <th>Small_Systems_Waiver_Fl</th>\n",
       "      <td>                                                 N</td>\n",
       "    </tr>\n",
       "    <tr>\n",
       "      <th>Voluntary_Reporter_Fl</th>\n",
       "      <td>                                                 Y</td>\n",
       "    </tr>\n",
       "    <tr>\n",
       "      <th>Operate_FGW_MBDO_Fl</th>\n",
       "      <td>                                                 Y</td>\n",
       "    </tr>\n",
       "    <tr>\n",
       "      <th>Operate_FGW_MBPT_Fl</th>\n",
       "      <td>                                               NaN</td>\n",
       "    </tr>\n",
       "    <tr>\n",
       "      <th>Operate_FGW_CBDO_Fl</th>\n",
       "      <td>                                               NaN</td>\n",
       "    </tr>\n",
       "    <tr>\n",
       "      <th>Operate_FGW_CBPT_Fl</th>\n",
       "      <td>                                               NaN</td>\n",
       "    </tr>\n",
       "    <tr>\n",
       "      <th>DO VOMS</th>\n",
       "      <td>                                              9044</td>\n",
       "    </tr>\n",
       "    <tr>\n",
       "      <th>PT VOMS</th>\n",
       "      <td>                                              1669</td>\n",
       "    </tr>\n",
       "    <tr>\n",
       "      <th>Total VOMS</th>\n",
       "      <td>                                             10713</td>\n",
       "    </tr>\n",
       "  </tbody>\n",
       "</table>\n",
       "</div>"
      ],
      "text/plain": [
       "                                                                            106\n",
       "Trs_Id                                                                     2008\n",
       "Company_Nm                                            MTA New York City Transit\n",
       "Logo_Cd                                                                    NYCT\n",
       "Agency_Active_Fl                                                              A\n",
       "Agency_Type_Desc              2. Subsidiary unit of a transit agency, report...\n",
       "Org_Type                                                             Subsidiary\n",
       "Organization_Type_Desc                                                      NaN\n",
       "Institutional_Structure_Desc                                                NaN\n",
       "Fy_Day_Num                                                  2012-12-31 00:00:00\n",
       "NTD_Report_Due                                              2013-04-29 00:00:00\n",
       "Street1_Nm                                                           2 Broadway\n",
       "Street2_Nm                                                                  NaN\n",
       "City_Nm                                                                New York\n",
       "State_Desc                                                                   NY\n",
       "Zip_Cd                                                                    10004\n",
       "Zip_4_Cd                                                                    NaN\n",
       "Po_Box                                                                      NaN\n",
       "FTA_Region                                                                    2\n",
       "Url_Cd                                                             www.mta.info\n",
       "FTAvc_Cd                                                                   1786\n",
       "Duns_Num                                                                9702853\n",
       "Service_Area                                                                321\n",
       "Service_Area_Population                                                 8008278\n",
       "UZA_Cd                                                                        1\n",
       "UZA_Nm                                                New York-Newark, NY-NJ-CT\n",
       "Population_Num                                                         18351295\n",
       "Density_Num                                                                5319\n",
       "Sqmiles_Num                                                                3450\n",
       "Small_Systems_Waiver_Fl                                                       N\n",
       "Voluntary_Reporter_Fl                                                         Y\n",
       "Operate_FGW_MBDO_Fl                                                           Y\n",
       "Operate_FGW_MBPT_Fl                                                         NaN\n",
       "Operate_FGW_CBDO_Fl                                                         NaN\n",
       "Operate_FGW_CBPT_Fl                                                         NaN\n",
       "DO VOMS                                                                    9044\n",
       "PT VOMS                                                                    1669\n",
       "Total VOMS                                                                10713"
      ]
     },
     "execution_count": 9,
     "metadata": {},
     "output_type": "execute_result"
    }
   ],
   "source": [
    "ntd_agency_info_df.loc[ntd_agency_info_df['Trs_Id']==target_trs_id, :].T"
   ]
  },
  {
   "cell_type": "code",
   "execution_count": null,
   "metadata": {
    "collapsed": true
   },
   "outputs": [],
   "source": []
  }
 ],
 "metadata": {
  "kernelspec": {
   "display_name": "Python 2",
   "language": "python",
   "name": "python2"
  },
  "language_info": {
   "codemirror_mode": {
    "name": "ipython",
    "version": 2
   },
   "file_extension": ".py",
   "mimetype": "text/x-python",
   "name": "python",
   "nbconvert_exporter": "python",
   "pygments_lexer": "ipython2",
   "version": "2.7.11"
  }
 },
 "nbformat": 4,
 "nbformat_minor": 0
}
