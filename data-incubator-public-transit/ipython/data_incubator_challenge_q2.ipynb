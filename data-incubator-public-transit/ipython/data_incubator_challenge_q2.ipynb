{
 "cells": [
  {
   "cell_type": "code",
   "execution_count": 7,
   "metadata": {
    "collapsed": true
   },
   "outputs": [],
   "source": [
    "import numpy as np\n",
    "import pandas as pd\n",
    "import warnings\n",
    "import itertools"
   ]
  },
  {
   "cell_type": "code",
   "execution_count": 2,
   "metadata": {
    "collapsed": true
   },
   "outputs": [],
   "source": [
    "trip_data_csv = \"../data/challenge-q/trip_data_3.csv\"\n",
    "trip_fare_csv = \"../data/challenge-q/trip_fare_3.csv\"\n",
    "chunksize = 10**5"
   ]
  },
  {
   "cell_type": "code",
   "execution_count": 3,
   "metadata": {
    "collapsed": false
   },
   "outputs": [],
   "source": [
    "trip_data_reader = pd.read_csv(trip_data_csv, chunksize=chunksize)\n",
    "trip_fare_reader = pd.read_csv(trip_fare_csv, chunksize=chunksize)"
   ]
  },
  {
   "cell_type": "code",
   "execution_count": 77,
   "metadata": {
    "collapsed": false,
    "scrolled": true
   },
   "outputs": [
    {
     "data": {
      "text/html": [
       "<div style=\"max-height:1000px;max-width:1500px;overflow:auto;\">\n",
       "<table border=\"1\" class=\"dataframe\">\n",
       "  <thead>\n",
       "    <tr style=\"text-align: right;\">\n",
       "      <th></th>\n",
       "      <th>medallion</th>\n",
       "      <th> hack_license</th>\n",
       "      <th> vendor_id</th>\n",
       "      <th> rate_code</th>\n",
       "      <th> store_and_fwd_flag</th>\n",
       "      <th> pickup_datetime</th>\n",
       "      <th> dropoff_datetime</th>\n",
       "      <th> passenger_count</th>\n",
       "      <th> trip_time_in_secs</th>\n",
       "      <th> trip_distance</th>\n",
       "      <th> pickup_longitude</th>\n",
       "      <th> pickup_latitude</th>\n",
       "      <th> dropoff_longitude</th>\n",
       "      <th> dropoff_latitude</th>\n",
       "    </tr>\n",
       "  </thead>\n",
       "  <tbody>\n",
       "    <tr>\n",
       "      <th>0</th>\n",
       "      <td> EC357E5043D2B57A59695A9EBEF0DF66</td>\n",
       "      <td> 57E230DE0A42F3A879BE0E9B59E5774D</td>\n",
       "      <td> CMT</td>\n",
       "      <td> 1</td>\n",
       "      <td> N</td>\n",
       "      <td> 2013-03-01 00:04:57</td>\n",
       "      <td> 2013-03-01 00:15:39</td>\n",
       "      <td> 2</td>\n",
       "      <td>  641</td>\n",
       "      <td>  2.0</td>\n",
       "      <td>-73.988785</td>\n",
       "      <td> 40.722244</td>\n",
       "      <td>-73.979820</td>\n",
       "      <td> 40.746365</td>\n",
       "    </tr>\n",
       "    <tr>\n",
       "      <th>1</th>\n",
       "      <td> 9202653FEF132ECCF2850C7E560CDE08</td>\n",
       "      <td> A86011E8B4D0FCC19283230950DFCB3E</td>\n",
       "      <td> CMT</td>\n",
       "      <td> 1</td>\n",
       "      <td> N</td>\n",
       "      <td> 2013-03-01 00:05:04</td>\n",
       "      <td> 2013-03-01 00:11:25</td>\n",
       "      <td> 1</td>\n",
       "      <td>  381</td>\n",
       "      <td>  1.6</td>\n",
       "      <td>-73.960480</td>\n",
       "      <td> 40.776127</td>\n",
       "      <td>-73.981209</td>\n",
       "      <td> 40.780640</td>\n",
       "    </tr>\n",
       "    <tr>\n",
       "      <th>2</th>\n",
       "      <td> 8B8D3A06CE1FAD14B5ADBE5BE40C77CC</td>\n",
       "      <td> 9BC5440E1CDC10E1AF07207A1A315C23</td>\n",
       "      <td> CMT</td>\n",
       "      <td> 1</td>\n",
       "      <td> N</td>\n",
       "      <td> 2013-03-01 00:05:14</td>\n",
       "      <td> 2013-03-01 00:19:28</td>\n",
       "      <td> 1</td>\n",
       "      <td>  853</td>\n",
       "      <td>  6.6</td>\n",
       "      <td>-74.008919</td>\n",
       "      <td> 40.713947</td>\n",
       "      <td>-73.916862</td>\n",
       "      <td> 40.742718</td>\n",
       "    </tr>\n",
       "    <tr>\n",
       "      <th>3</th>\n",
       "      <td> 46E1AE760E9E1FC1573B878C4FB9062A</td>\n",
       "      <td> C21B0744AFE2EB82768C26782238B35F</td>\n",
       "      <td> CMT</td>\n",
       "      <td> 1</td>\n",
       "      <td> N</td>\n",
       "      <td> 2013-03-01 00:05:14</td>\n",
       "      <td> 2013-03-01 00:47:14</td>\n",
       "      <td> 1</td>\n",
       "      <td> 2519</td>\n",
       "      <td> 22.0</td>\n",
       "      <td>-74.000793</td>\n",
       "      <td> 40.729679</td>\n",
       "      <td>-73.786713</td>\n",
       "      <td> 40.843445</td>\n",
       "    </tr>\n",
       "    <tr>\n",
       "      <th>4</th>\n",
       "      <td> 3CD865423995A255E87078AFBE87429C</td>\n",
       "      <td> 69365235F0D552B411CDD6D7980C08F5</td>\n",
       "      <td> CMT</td>\n",
       "      <td> 1</td>\n",
       "      <td> N</td>\n",
       "      <td> 2013-03-01 00:05:23</td>\n",
       "      <td> 2013-03-01 00:20:41</td>\n",
       "      <td> 1</td>\n",
       "      <td>  917</td>\n",
       "      <td>  3.8</td>\n",
       "      <td>-73.960159</td>\n",
       "      <td> 40.762028</td>\n",
       "      <td>-74.004257</td>\n",
       "      <td> 40.738377</td>\n",
       "    </tr>\n",
       "  </tbody>\n",
       "</table>\n",
       "</div>"
      ],
      "text/plain": [
       "                          medallion                      hack_license  \\\n",
       "0  EC357E5043D2B57A59695A9EBEF0DF66  57E230DE0A42F3A879BE0E9B59E5774D   \n",
       "1  9202653FEF132ECCF2850C7E560CDE08  A86011E8B4D0FCC19283230950DFCB3E   \n",
       "2  8B8D3A06CE1FAD14B5ADBE5BE40C77CC  9BC5440E1CDC10E1AF07207A1A315C23   \n",
       "3  46E1AE760E9E1FC1573B878C4FB9062A  C21B0744AFE2EB82768C26782238B35F   \n",
       "4  3CD865423995A255E87078AFBE87429C  69365235F0D552B411CDD6D7980C08F5   \n",
       "\n",
       "   vendor_id   rate_code  store_and_fwd_flag      pickup_datetime  \\\n",
       "0        CMT           1                   N  2013-03-01 00:04:57   \n",
       "1        CMT           1                   N  2013-03-01 00:05:04   \n",
       "2        CMT           1                   N  2013-03-01 00:05:14   \n",
       "3        CMT           1                   N  2013-03-01 00:05:14   \n",
       "4        CMT           1                   N  2013-03-01 00:05:23   \n",
       "\n",
       "      dropoff_datetime   passenger_count   trip_time_in_secs   trip_distance  \\\n",
       "0  2013-03-01 00:15:39                 2                 641             2.0   \n",
       "1  2013-03-01 00:11:25                 1                 381             1.6   \n",
       "2  2013-03-01 00:19:28                 1                 853             6.6   \n",
       "3  2013-03-01 00:47:14                 1                2519            22.0   \n",
       "4  2013-03-01 00:20:41                 1                 917             3.8   \n",
       "\n",
       "    pickup_longitude   pickup_latitude   dropoff_longitude   dropoff_latitude  \n",
       "0         -73.988785         40.722244          -73.979820          40.746365  \n",
       "1         -73.960480         40.776127          -73.981209          40.780640  \n",
       "2         -74.008919         40.713947          -73.916862          40.742718  \n",
       "3         -74.000793         40.729679          -73.786713          40.843445  \n",
       "4         -73.960159         40.762028          -74.004257          40.738377  "
      ]
     },
     "execution_count": 77,
     "metadata": {},
     "output_type": "execute_result"
    }
   ],
   "source": [
    "trip_df = trip_data_reader.get_chunk(10)\n",
    "trip_df.head()"
   ]
  },
  {
   "cell_type": "code",
   "execution_count": 76,
   "metadata": {
    "collapsed": false,
    "scrolled": true
   },
   "outputs": [
    {
     "data": {
      "text/html": [
       "<div style=\"max-height:1000px;max-width:1500px;overflow:auto;\">\n",
       "<table border=\"1\" class=\"dataframe\">\n",
       "  <thead>\n",
       "    <tr style=\"text-align: right;\">\n",
       "      <th></th>\n",
       "      <th>medallion</th>\n",
       "      <th> hack_license</th>\n",
       "      <th> vendor_id</th>\n",
       "      <th> pickup_datetime</th>\n",
       "      <th> payment_type</th>\n",
       "      <th> fare_amount</th>\n",
       "      <th> surcharge</th>\n",
       "      <th> mta_tax</th>\n",
       "      <th> tip_amount</th>\n",
       "      <th> tolls_amount</th>\n",
       "      <th> total_amount</th>\n",
       "    </tr>\n",
       "  </thead>\n",
       "  <tbody>\n",
       "    <tr>\n",
       "      <th>0</th>\n",
       "      <td> FE7B354FEB67B9C94BD34EA54469691C</td>\n",
       "      <td> 2C78614ADC9C602EC70D65CCB4E63B14</td>\n",
       "      <td> CMT</td>\n",
       "      <td> 2013-03-01 00:00:04</td>\n",
       "      <td> CRD</td>\n",
       "      <td> 39.5</td>\n",
       "      <td> 0.5</td>\n",
       "      <td> 0.5</td>\n",
       "      <td> 10.10</td>\n",
       "      <td> 0.0</td>\n",
       "      <td> 50.60</td>\n",
       "    </tr>\n",
       "    <tr>\n",
       "      <th>1</th>\n",
       "      <td> B1370E6501ED61CEDA0160199AF7708C</td>\n",
       "      <td> 08BF18740B38D64720C9E060429A3968</td>\n",
       "      <td> CMT</td>\n",
       "      <td> 2013-03-01 00:00:18</td>\n",
       "      <td> CRD</td>\n",
       "      <td> 13.0</td>\n",
       "      <td> 0.5</td>\n",
       "      <td> 0.5</td>\n",
       "      <td>  2.10</td>\n",
       "      <td> 0.0</td>\n",
       "      <td> 16.10</td>\n",
       "    </tr>\n",
       "    <tr>\n",
       "      <th>2</th>\n",
       "      <td> CBC20164C22B96CAF5BC86C49F749DBB</td>\n",
       "      <td> F3310C8DA3DB753DDB5800F32D3CB8E3</td>\n",
       "      <td> CMT</td>\n",
       "      <td> 2013-03-01 00:00:18</td>\n",
       "      <td> CRD</td>\n",
       "      <td> 15.0</td>\n",
       "      <td> 0.5</td>\n",
       "      <td> 0.5</td>\n",
       "      <td>  3.20</td>\n",
       "      <td> 0.0</td>\n",
       "      <td> 19.20</td>\n",
       "    </tr>\n",
       "    <tr>\n",
       "      <th>3</th>\n",
       "      <td> B8256802A449BEF34E161654BFA8A2B6</td>\n",
       "      <td> DF142C5256392C3CDA67C7DFFA5B88E2</td>\n",
       "      <td> CMT</td>\n",
       "      <td> 2013-03-01 00:00:23</td>\n",
       "      <td> CRD</td>\n",
       "      <td> 25.5</td>\n",
       "      <td> 0.5</td>\n",
       "      <td> 0.5</td>\n",
       "      <td>  6.26</td>\n",
       "      <td> 4.8</td>\n",
       "      <td> 37.56</td>\n",
       "    </tr>\n",
       "    <tr>\n",
       "      <th>4</th>\n",
       "      <td> 0F9E0728AB1E40D5CEB0C6EDBF805CCB</td>\n",
       "      <td> 10D2E58D75E07D6B5AAFA329BF5A4CAC</td>\n",
       "      <td> CMT</td>\n",
       "      <td> 2013-03-01 00:00:35</td>\n",
       "      <td> CRD</td>\n",
       "      <td>  6.5</td>\n",
       "      <td> 0.5</td>\n",
       "      <td> 0.5</td>\n",
       "      <td>  1.00</td>\n",
       "      <td> 0.0</td>\n",
       "      <td>  8.50</td>\n",
       "    </tr>\n",
       "  </tbody>\n",
       "</table>\n",
       "</div>"
      ],
      "text/plain": [
       "                          medallion                      hack_license  \\\n",
       "0  FE7B354FEB67B9C94BD34EA54469691C  2C78614ADC9C602EC70D65CCB4E63B14   \n",
       "1  B1370E6501ED61CEDA0160199AF7708C  08BF18740B38D64720C9E060429A3968   \n",
       "2  CBC20164C22B96CAF5BC86C49F749DBB  F3310C8DA3DB753DDB5800F32D3CB8E3   \n",
       "3  B8256802A449BEF34E161654BFA8A2B6  DF142C5256392C3CDA67C7DFFA5B88E2   \n",
       "4  0F9E0728AB1E40D5CEB0C6EDBF805CCB  10D2E58D75E07D6B5AAFA329BF5A4CAC   \n",
       "\n",
       "   vendor_id      pickup_datetime  payment_type   fare_amount   surcharge  \\\n",
       "0        CMT  2013-03-01 00:00:04           CRD          39.5         0.5   \n",
       "1        CMT  2013-03-01 00:00:18           CRD          13.0         0.5   \n",
       "2        CMT  2013-03-01 00:00:18           CRD          15.0         0.5   \n",
       "3        CMT  2013-03-01 00:00:23           CRD          25.5         0.5   \n",
       "4        CMT  2013-03-01 00:00:35           CRD           6.5         0.5   \n",
       "\n",
       "    mta_tax   tip_amount   tolls_amount   total_amount  \n",
       "0       0.5        10.10            0.0          50.60  \n",
       "1       0.5         2.10            0.0          16.10  \n",
       "2       0.5         3.20            0.0          19.20  \n",
       "3       0.5         6.26            4.8          37.56  \n",
       "4       0.5         1.00            0.0           8.50  "
      ]
     },
     "execution_count": 76,
     "metadata": {},
     "output_type": "execute_result"
    }
   ],
   "source": [
    "trip_fare_reader = pd.read_csv(trip_fare_csv, chunksize=chunksize)\n",
    "fare_df = trip_fare_reader.get_chunk(10)\n",
    "fare_df.head()"
   ]
  },
  {
   "cell_type": "code",
   "execution_count": 59,
   "metadata": {
    "collapsed": false
   },
   "outputs": [],
   "source": [
    "def df_query_count(fare_df, querystr1, querystr2):\n",
    "    # regularize the column header names, drop leading and trailing spaces\n",
    "    fare_df.columns = [cn.strip() for cn in fare_df.columns]\n",
    "    fare_df = fare_df.dropna()\n",
    "    n_rows_1 = len(fare_df.query(querystr1))\n",
    "    n_rows_1_2 = len(fare_df.query(querystr1+' and '+querystr2))\n",
    "    return n_rows_1, n_rows_1_2"
   ]
  },
  {
   "cell_type": "code",
   "execution_count": 61,
   "metadata": {
    "collapsed": false
   },
   "outputs": [
    {
     "ename": "AttributeError",
     "evalue": "'numpy.int64' object has no attribute '3f'",
     "output_type": "error",
     "traceback": [
      "\u001b[1;31m---------------------------------------------------------------------------\u001b[0m",
      "\u001b[1;31mAttributeError\u001b[0m                            Traceback (most recent call last)",
      "\u001b[1;32m<ipython-input-61-03dc7735eb4f>\u001b[0m in \u001b[0;36m<module>\u001b[1;34m()\u001b[0m\n\u001b[0;32m      5\u001b[0m \u001b[0mcount_1\u001b[0m\u001b[1;33m,\u001b[0m \u001b[0mcount_1_2\u001b[0m \u001b[1;33m=\u001b[0m \u001b[0mzip\u001b[0m\u001b[1;33m(\u001b[0m\u001b[1;33m*\u001b[0m\u001b[0mcount_all\u001b[0m\u001b[1;33m)\u001b[0m\u001b[1;33m\u001b[0m\u001b[0m\n\u001b[0;32m      6\u001b[0m \u001b[0mratio\u001b[0m \u001b[1;33m=\u001b[0m \u001b[0mnp\u001b[0m\u001b[1;33m.\u001b[0m\u001b[0msum\u001b[0m\u001b[1;33m(\u001b[0m\u001b[0mnp\u001b[0m\u001b[1;33m.\u001b[0m\u001b[0marray\u001b[0m\u001b[1;33m(\u001b[0m\u001b[0mcount_1_2\u001b[0m\u001b[1;33m)\u001b[0m\u001b[1;33m)\u001b[0m\u001b[1;33m/\u001b[0m\u001b[0mnp\u001b[0m\u001b[1;33m.\u001b[0m\u001b[0msum\u001b[0m\u001b[1;33m(\u001b[0m\u001b[0mnp\u001b[0m\u001b[1;33m.\u001b[0m\u001b[0marray\u001b[0m\u001b[1;33m(\u001b[0m\u001b[0mcount_1\u001b[0m\u001b[1;33m)\u001b[0m\u001b[1;33m)\u001b[0m\u001b[1;33m\u001b[0m\u001b[0m\n\u001b[1;32m----> 7\u001b[1;33m \u001b[1;32mprint\u001b[0m \u001b[1;34m\"Q2.1, What fraction of payments under $5 use a credit card?\\nAnswer = {0.3f}\"\u001b[0m\u001b[1;33m.\u001b[0m\u001b[0mformat\u001b[0m\u001b[1;33m(\u001b[0m\u001b[0mratio\u001b[0m\u001b[1;33m)\u001b[0m\u001b[1;33m\u001b[0m\u001b[0m\n\u001b[0m",
      "\u001b[1;31mAttributeError\u001b[0m: 'numpy.int64' object has no attribute '3f'"
     ]
    }
   ],
   "source": [
    "querystr1 = 'fare_amount<5'\n",
    "querystr2 = 'payment_type==\"CRD\"'\n",
    "count = np.array([0, 0])\n",
    "count_all = [ df_query_count(chunk, querystr1, querystr2) for chunk in trip_fare_reader ]\n",
    "count_1, count_1_2 = zip(*count_all)"
   ]
  },
  {
   "cell_type": "code",
   "execution_count": 65,
   "metadata": {
    "collapsed": false
   },
   "outputs": [
    {
     "name": "stdout",
     "output_type": "stream",
     "text": [
      "Q2.1, What fraction of payments under $5 use a credit card?\n",
      "Answer = 0.367564\n"
     ]
    }
   ],
   "source": [
    "ratio = np.sum(np.array(count_1_2,dtype=float))/np.sum(np.array(count_1, dtype=float))\n",
    "print \"Q2.1, What fraction of payments under $5 use a credit card?\\nAnswer = {0:3f}\".format(ratio)"
   ]
  },
  {
   "cell_type": "code",
   "execution_count": 72,
   "metadata": {
    "collapsed": false
   },
   "outputs": [
    {
     "name": "stdout",
     "output_type": "stream",
     "text": [
      "Q2.2, What fraction of payments over $50 use a credit card\n",
      "Answer = 0.622889\n"
     ]
    }
   ],
   "source": [
    "trip_fare_reader = pd.read_csv(trip_fare_csv, chunksize=chunksize)\n",
    "querystr1 = 'fare_amount>50'\n",
    "querystr2 = 'payment_type==\"CRD\"'\n",
    "count = np.array([0, 0])\n",
    "count_all = [ df_query_count(chunk, querystr1, querystr2) for chunk in trip_fare_reader ]\n",
    "count_1, count_1_2 = zip(*count_all)\n",
    "ratio = np.sum(np.array(count_1_2,dtype=float))/np.sum(np.array(count_1, dtype=float))\n",
    "print \"Q2.2, What fraction of payments over $50 use a credit card\\nAnswer = {0:3f}\".format(ratio)"
   ]
  },
  {
   "cell_type": "code",
   "execution_count": 9,
   "metadata": {
    "collapsed": false
   },
   "outputs": [],
   "source": [
    "trip_data_reader = pd.read_csv(trip_data_csv, chunksize=chunksize)\n",
    "trip_fare_reader = pd.read_csv(trip_fare_csv, chunksize=chunksize)\n",
    "trip_df = trip_data_reader.get_chunk(10)\n",
    "fare_df = trip_fare_reader.get_chunk(10)\n",
    "trip_df.columns = [ cn.strip() for cn in trip_df.columns]\n",
    "fare_df.columns = [ cn.strip() for cn in fare_df.columns]"
   ]
  },
  {
   "cell_type": "code",
   "execution_count": 14,
   "metadata": {
    "collapsed": false
   },
   "outputs": [
    {
     "data": {
      "text/plain": [
       "Index([u'medallion', u'hack_license', u'vendor_id', u'rate_code', u'store_and_fwd_flag', u'pickup_datetime', u'dropoff_datetime', u'passenger_count', u'trip_time_in_secs', u'trip_distance', u'pickup_longitude', u'pickup_latitude', u'dropoff_longitude', u'dropoff_latitude'], dtype='object')"
      ]
     },
     "execution_count": 14,
     "metadata": {},
     "output_type": "execute_result"
    }
   ],
   "source": [
    "trip_df.columns"
   ]
  },
  {
   "cell_type": "code",
   "execution_count": 13,
   "metadata": {
    "collapsed": false
   },
   "outputs": [
    {
     "data": {
      "text/plain": [
       "Index([u'medallion', u'hack_license', u'vendor_id', u'pickup_datetime', u'payment_type', u'fare_amount', u'surcharge', u'mta_tax', u'tip_amount', u'tolls_amount', u'total_amount'], dtype='object')"
      ]
     },
     "execution_count": 13,
     "metadata": {},
     "output_type": "execute_result"
    }
   ],
   "source": [
    "fare_df.isnull("
   ]
  },
  {
   "cell_type": "code",
   "execution_count": 24,
   "metadata": {
    "collapsed": false
   },
   "outputs": [],
   "source": [
    "def fare_per_unit(trip_df, fare_df):\n",
    "    trip_df.columns = [ cn.strip() for cn in trip_df.columns]\n",
    "    fare_df.columns = [ cn.strip() for cn in fare_df.columns]\n",
    "    # data check warning\n",
    "    if not np.all( np.logical_and.reduce((trip_df['medallion']==fare_df['medallion'], \\\n",
    "                                          trip_df['hack_license']==fare_df['hack_license'], \\\n",
    "                                          trip_df['pickup_datetime']==fare_df['pickup_datetime'])) ):\n",
    "        warnings.warn(\"Trip data and trip fare are not one-to-one correspondent! Be cautious about your results\")\n",
    "    select_flag = ~np.logical_or(trip_df.isnull().any(axis=1), fare_df.isnull().any(axis=1))\n",
    "    trip_df = trip_df.loc[select_flag, :]\n",
    "    fare_df = fare_df.loc[select_flag, :]\n",
    "    select_flag = np.logical_and.reduce((trip_df['medallion']==fare_df['medallion'], \\\n",
    "                                         trip_df['hack_license']==fare_df['hack_license'], \\\n",
    "                                         trip_df['pickup_datetime']==fare_df['pickup_datetime'], \\\n",
    "                                         trip_df['trip_time_in_secs']>1e-10, \\\n",
    "                                         trip_df['trip_distance']>1e-10))\n",
    "    trip_df = trip_df.loc[select_flag, :]\n",
    "    fare_df = fare_df.loc[select_flag, :]\n",
    "    n_trips = len(trip_df)\n",
    "    fare_minute_sum = np.sum(fare_df['fare_amount']/(trip_df['trip_time_in_secs']/60.0))\n",
    "    fare_mile_med = np.median(fare_df['fare_amount']/(trip_df['trip_distance']))\n",
    "    return n_trips, fare_minute_sum, fare_mile_med"
   ]
  },
  {
   "cell_type": "code",
   "execution_count": 101,
   "metadata": {
    "collapsed": false
   },
   "outputs": [
    {
     "data": {
      "text/plain": [
       "12.63872671443756"
      ]
     },
     "execution_count": 101,
     "metadata": {},
     "output_type": "execute_result"
    }
   ],
   "source": [
    "fare_minute_sum"
   ]
  },
  {
   "cell_type": "code",
   "execution_count": 25,
   "metadata": {
    "collapsed": false
   },
   "outputs": [
    {
     "name": "stderr",
     "output_type": "stream",
     "text": [
      "/usr3/graduate/zhanli86/anaconda_envs/zhanli_py27/lib/python2.7/site-packages/numpy/core/_methods.py:59: RuntimeWarning: Mean of empty slice.\n",
      "  warnings.warn(\"Mean of empty slice.\", RuntimeWarning)\n"
     ]
    }
   ],
   "source": [
    "trip_data_reader = pd.read_csv(trip_data_csv, chunksize=chunksize)\n",
    "trip_fare_reader = pd.read_csv(trip_fare_csv, chunksize=chunksize)\n",
    "fpu_list = [ fare_per_unit(trip_chunk, fare_chunk) for trip_chunk, fare_chunk in itertools.izip(trip_data_reader, trip_fare_reader)]\n",
    "n_trips, fare_minute_sum, fare_mile_med = zip(*fpu_list)\n",
    "n_trips = np.sum(np.array(n_trips))\n",
    "fare_minute_sum = np.sum(np.array(fare_minute_sum))\n",
    "\n"
   ]
  },
  {
   "cell_type": "code",
   "execution_count": 29,
   "metadata": {
    "collapsed": false
   },
   "outputs": [
    {
     "name": "stdout",
     "output_type": "stream",
     "text": [
      "Q2.3 What is the mean fare per minute driven?\n",
      "Answer: 1.245245\n",
      "Q2.3 What is the median of the taxi's fare per mile driven?\n",
      "Answer: 5.000000\n"
     ]
    }
   ],
   "source": [
    "print \"Q2.3 What is the mean fare per minute driven?\\nAnswer: {0:3f}\".format(fare_minute_sum/float(n_trips))\n",
    "print \"Q2.3 What is the median of the taxi's fare per mile driven?\\nAnswer: {0:3f}\".format(np.median(np.array(fare_mile_med)))"
   ]
  },
  {
   "cell_type": "code",
   "execution_count": 31,
   "metadata": {
    "collapsed": true
   },
   "outputs": [],
   "source": [
    "from geopy.distance import great_circle"
   ]
  },
  {
   "cell_type": "code",
   "execution_count": 32,
   "metadata": {
    "collapsed": true
   },
   "outputs": [],
   "source": [
    "def distance_ratio(trip_df, fare_df):\n",
    "    trip_df.columns = [ cn.strip() for cn in trip_df.columns]\n",
    "    fare_df.columns = [ cn.strip() for cn in fare_df.columns]\n",
    "    # data check warning\n",
    "    if not np.all( np.logical_and.reduce((trip_df['medallion']==fare_df['medallion'], \\\n",
    "                                          trip_df['hack_license']==fare_df['hack_license'], \\\n",
    "                                          trip_df['pickup_datetime']==fare_df['pickup_datetime'])) ):\n",
    "        warnings.warn(\"Trip data and trip fare are not one-to-one correspondent! Be cautious about your results\")\n",
    "    select_flag = ~np.logical_or(trip_df.isnull().any(axis=1), fare_df.isnull().any(axis=1))\n",
    "    trip_df = trip_df.loc[select_flag, :]\n",
    "    fare_df = fare_df.loc[select_flag, :]\n",
    "    select_flag = np.logical_and.reduce((trip_df['medallion']==fare_df['medallion'], \\\n",
    "                                         trip_df['hack_license']==fare_df['hack_license'], \\\n",
    "                                         trip_df['pickup_datetime']==fare_df['pickup_datetime'], \\\n",
    "                                         trip_df['trip_time_in_secs']>1e-10, \\\n",
    "                                         trip_df['trip_distance']>1e-10))\n",
    "    trip_df = trip_df.loc[select_flag, :]\n",
    "    fare_df = fare_df.loc[select_flag, :]\n",
    "    n_trips = len(trip_df)\n",
    "    if n_trips>0:\n",
    "        pickup_loc_list = zip(trip_df['pickup_latitude'], trip_df['pickup_longitude'])\n",
    "        dropoff_loc_list = zip(trip_df['dropoff_latitude'], trip_df['dropoff_longitude'])\n",
    "        dist_list = [great_circle(pu, do).miles for pu, do in itertools.izip(pickup_loc_list, dropoff_loc_list)]\n",
    "        dist_ratio = np.array(dist_list)/trip_df['trip_distance']\n",
    "        dist_ratio_sum = np.sum(dist_ratio)\n",
    "    else:\n",
    "        dist_ratio_sum = 0\n",
    "    return n_trips, dist_ratio_sum"
   ]
  },
  {
   "cell_type": "code",
   "execution_count": 33,
   "metadata": {
    "collapsed": true
   },
   "outputs": [],
   "source": [
    "trip_data_reader = pd.read_csv(trip_data_csv, chunksize=chunksize)\n",
    "trip_fare_reader = pd.read_csv(trip_fare_csv, chunksize=chunksize)\n",
    "fpu_list = [ distance_ratio(trip_chunk, fare_chunk) for trip_chunk, fare_chunk in itertools.izip(trip_data_reader, trip_fare_reader)]\n",
    "n_trips, dist_ratio_sum = zip(*fpu_list)\n",
    "n_trips = np.sum(np.array(n_trips))\n",
    "dist_ratio_sum = np.sum(np.array(dist_ratio_sum))"
   ]
  },
  {
   "cell_type": "code",
   "execution_count": 34,
   "metadata": {
    "collapsed": false
   },
   "outputs": [
    {
     "name": "stdout",
     "output_type": "stream",
     "text": [
      "Q2.6 What is the average ratio of the distance between the pickup and dropoff divided by the distance driven??\n",
      "Answer: 4.327638\n"
     ]
    }
   ],
   "source": [
    "print \"Q2.6 What is the average ratio of the distance between the pickup and dropoff divided by the distance driven??\\nAnswer: {0:3f}\".format(dist_ratio_sum/float(n_trips))"
   ]
  },
  {
   "cell_type": "code",
   "execution_count": 41,
   "metadata": {
    "collapsed": true
   },
   "outputs": [],
   "source": [
    "def tip_from_loc(trip_df, fare_df, pickup_loc):\n",
    "    trip_df.columns = [ cn.strip() for cn in trip_df.columns]\n",
    "    fare_df.columns = [ cn.strip() for cn in fare_df.columns]\n",
    "    # data check warning\n",
    "    if not np.all( np.logical_and.reduce((trip_df['medallion']==fare_df['medallion'], \\\n",
    "                                          trip_df['hack_license']==fare_df['hack_license'], \\\n",
    "                                          trip_df['pickup_datetime']==fare_df['pickup_datetime'])) ):\n",
    "        warnings.warn(\"Trip data and trip fare are not one-to-one correspondent! Be cautious about your results\")\n",
    "    select_flag = ~np.logical_or(trip_df.isnull().any(axis=1), fare_df.isnull().any(axis=1))\n",
    "    trip_df = trip_df.loc[select_flag, :]\n",
    "    fare_df = fare_df.loc[select_flag, :]\n",
    "    select_flag = np.logical_and.reduce((trip_df['medallion']==fare_df['medallion'], \\\n",
    "                                         trip_df['hack_license']==fare_df['hack_license'], \\\n",
    "                                         trip_df['pickup_datetime']==fare_df['pickup_datetime'], \\\n",
    "                                         trip_df['trip_time_in_secs']>1e-10, \\\n",
    "                                         trip_df['trip_distance']>1e-10))\n",
    "    trip_df = trip_df.loc[select_flag, :]\n",
    "    fare_df = fare_df.loc[select_flag, :]\n",
    "    n_trips = len(trip_df)\n",
    "    if n_trips>0:\n",
    "        pickup_loc_list = zip(trip_df['pickup_latitude'], trip_df['pickup_longitude'])\n",
    "        dist_list = [great_circle(pu, pickup_loc).miles for pu in pickup_loc_list]\n",
    "        dist_list = np.array(dist_list)\n",
    "        select_flag = dist_list < 5\n",
    "        n_trips = len(fare_df.loc[select_flag, :])\n",
    "        tip_sum = np.sum(fare_df.loc[select_flag, 'tip_amount'])\n",
    "    else:\n",
    "        tip_sum = 0\n",
    "    return n_trips, tip_sum"
   ]
  },
  {
   "cell_type": "code",
   "execution_count": 42,
   "metadata": {
    "collapsed": false
   },
   "outputs": [],
   "source": [
    "jfk_geoloc = (40.6397, -73.7789)\n",
    "trip_data_reader = pd.read_csv(trip_data_csv, chunksize=chunksize)\n",
    "trip_fare_reader = pd.read_csv(trip_fare_csv, chunksize=chunksize)\n",
    "fpu_list = [ tip_from_loc(trip_chunk, fare_chunk, jfk_geoloc) for trip_chunk, fare_chunk in itertools.izip(trip_data_reader, trip_fare_reader)]\n",
    "n_trips, tip_sum = zip(*fpu_list)\n",
    "n_trips = np.sum(np.array(n_trips))\n",
    "tip_sum = np.sum(np.array(tip_sum))"
   ]
  },
  {
   "cell_type": "code",
   "execution_count": 43,
   "metadata": {
    "collapsed": false
   },
   "outputs": [
    {
     "name": "stdout",
     "output_type": "stream",
     "text": [
      "Q2.7 What is the average tip for rides from JFK?\n",
      "Answer: 4.465155\n"
     ]
    }
   ],
   "source": [
    "print \"Q2.7 What is the average tip for rides from JFK?\\nAnswer: {0:3f}\".format(tip_sum/float(n_trips))"
   ]
  },
  {
   "cell_type": "code",
   "execution_count": 44,
   "metadata": {
    "collapsed": false
   },
   "outputs": [
    {
     "name": "stdout",
     "output_type": "stream",
     "text": [
      "106064\n",
      "473592.2\n"
     ]
    }
   ],
   "source": [
    "print n_trips\n",
    "print tip_sum"
   ]
  },
  {
   "cell_type": "code",
   "execution_count": null,
   "metadata": {
    "collapsed": true
   },
   "outputs": [],
   "source": []
  }
 ],
 "metadata": {
  "kernelspec": {
   "display_name": "Python 2",
   "language": "python",
   "name": "python2"
  },
  "language_info": {
   "codemirror_mode": {
    "name": "ipython",
    "version": 2
   },
   "file_extension": ".py",
   "mimetype": "text/x-python",
   "name": "python",
   "nbconvert_exporter": "python",
   "pygments_lexer": "ipython2",
   "version": "2.7.9"
  }
 },
 "nbformat": 4,
 "nbformat_minor": 0
}
