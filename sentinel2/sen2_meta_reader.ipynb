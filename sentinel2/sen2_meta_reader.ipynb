{
 "cells": [
  {
   "cell_type": "markdown",
   "metadata": {},
   "source": [
    "# Read meta data of Sentinel-2\n",
    "## crawl through a list of Sentinel-2 SAFE data folders and output center geolocations"
   ]
  },
  {
   "cell_type": "code",
   "execution_count": 35,
   "metadata": {
    "collapsed": true
   },
   "outputs": [],
   "source": [
    "import xml.etree.ElementTree as ET\n",
    "from io import StringIO\n",
    "\n",
    "import numpy as np"
   ]
  },
  {
   "cell_type": "code",
   "execution_count": 2,
   "metadata": {
    "collapsed": true
   },
   "outputs": [],
   "source": [
    "# list of input sentinel2 meta xml file\n",
    "inxmlfiles = [ \\\n",
    "'/neponset/nbdata07/aerb/Sentinel/OriginalDownloads/S2A_OPER_PRD_MSIL1C_PDMC_20150818T101204_R022_V20150813T102406_20150813T102406.SAFE/S2A_OPER_MTD_SAFL1C_PDMC_20150818T101204_R022_V20150813T102406_20150813T102406.xml', \\\n",
    "'/neponset/nbdata07/aerb/Sentinel/OriginalDownloads/S2A_OPER_PRD_MSIL1C_PDMC_20150818T101216_R065_V20150806T102902_20150806T102902.SAFE/S2A_OPER_MTD_SAFL1C_PDMC_20150818T101216_R065_V20150806T102902_20150806T102902.xml', \\\n",
    "'/neponset/nbdata07/aerb/Sentinel/OriginalDownloads/S2A_OPER_PRD_MSIL1C_PDMC_20150818T101237_R022_V20150813T102406_20150813T102406.SAFE/S2A_OPER_MTD_SAFL1C_PDMC_20150818T101237_R022_V20150813T102406_20150813T102406.xml', \\\n",
    "'/neponset/nbdata07/aerb/Sentinel/OriginalDownloads/S2A_OPER_PRD_MSIL1C_PDMC_20150818T101308_R022_V20150813T102406_20150813T102406.SAFE/S2A_OPER_MTD_SAFL1C_PDMC_20150818T101308_R022_V20150813T102406_20150813T102406.xml', \\\n",
    "'/neponset/nbdata07/aerb/Sentinel/OriginalDownloads/S2A_OPER_PRD_MSIL1C_PDMC_20150818T101319_R065_V20150806T102902_20150806T102902.SAFE/S2A_OPER_MTD_SAFL1C_PDMC_20150818T101319_R065_V20150806T102902_20150806T102902.xml', \\\n",
    "'/neponset/nbdata07/aerb/Sentinel/OriginalDownloads/S2A_OPER_PRD_MSIL1C_PDMC_20150818T101440_R022_V20150813T102406_20150813T102406.SAFE/S2A_OPER_MTD_SAFL1C_PDMC_20150818T101440_R022_V20150813T102406_20150813T102406.xml', \\\n",
    "'/neponset/nbdata07/aerb/Sentinel/OriginalDownloads/S2A_OPER_PRD_MSIL1C_PDMC_20150818T101451_R080_V20150817T114755_20150817T114755.SAFE/S2A_OPER_MTD_SAFL1C_PDMC_20150818T101451_R080_V20150817T114755_20150817T114755.xml', \\\n",
    "'/neponset/nbdata07/aerb/Sentinel/OriginalDownloads/S2A_OPER_PRD_MSIL1C_PDMC_20150818T101452_R022_V20150813T102406_20150813T102406.SAFE/S2A_OPER_MTD_SAFL1C_PDMC_20150818T101452_R022_V20150813T102406_20150813T102406.xml', \\\n",
    "'/neponset/nbdata07/aerb/Sentinel/OriginalDownloads/S2A_OPER_PRD_MSIL1C_PDMC_20150818T101504_R080_V20150817T114433_20150817T114433.SAFE/S2A_OPER_MTD_SAFL1C_PDMC_20150818T101504_R080_V20150817T114433_20150817T114433.xml', \\\n",
    "'/neponset/nbdata07/aerb/Sentinel/OriginalDownloads/S2A_OPER_PRD_MSIL1C_PDMC_20150818T101516_R022_V20150813T102406_20150813T102406.SAFE/S2A_OPER_MTD_SAFL1C_PDMC_20150818T101516_R022_V20150813T102406_20150813T102406.xml', \\\n",
    "'/neponset/nbdata07/aerb/Sentinel/OriginalDownloads/S2A_OPER_PRD_MSIL1C_PDMC_20150820T085706_R051_V20150815T110427_20150815T110427.SAFE/S2A_OPER_MTD_SAFL1C_PDMC_20150820T085706_R051_V20150815T110427_20150815T110427.xml']"
   ]
  },
  {
   "cell_type": "code",
   "execution_count": 137,
   "metadata": {
    "collapsed": false
   },
   "outputs": [],
   "source": [
    "def arg_dup(arr1d, tol=1e-5):\n",
    "    # a function to return the indexes of duplicate floating numbers in a 1d array\n",
    "    tmp = arr1d.copy()\n",
    "    ind = np.argsort(tmp)\n",
    "    mask = np.append(np.diff(tmp[ind])>1e-5, True)\n",
    "    for i, m in enumerate(mask[-1:0:-1]):\n",
    "        if not mask[-2-i]:\n",
    "            mask[-1-i] = mask[-2-i]\n",
    "    return ind[np.logical_not(mask)]"
   ]
  },
  {
   "cell_type": "code",
   "execution_count": 147,
   "metadata": {
    "collapsed": false
   },
   "outputs": [],
   "source": [
    "def img_center(inxml):\n",
    "    tree = ET.parse(inxml)\n",
    "    root = tree.getroot()\n",
    "    ext_pos = root.findall('.//EXT_POS_LIST')\n",
    "    if len(ext_pos) > 1:\n",
    "        print \"More than one EXT_POS_LIST found. Ambiguous information. Stop and Check!\\n\"\n",
    "    elif len(ext_pos) < 1:\n",
    "        print \"No EXT_POS_LIST found. No information. Stop and check!\\n\"\n",
    "    else:\n",
    "        ext_pos_str = ext_pos[0].text\n",
    "        ext_pos_str_ls = ext_pos_str.split()\n",
    "        ext_pos_data = np.loadtxt(StringIO(unicode(ext_pos_str)))\n",
    "        ext_pos_data = np.reshape(ext_pos_data, (len(ext_pos_data)/2, 2))\n",
    "        # remove the duplicate positions\n",
    "        mask = np.ones_like(ext_pos_data, dtype=np.bool_)\n",
    "        ind = arg_dup(ext_pos_data[:,0])\n",
    "        mask[ind, 0] = False\n",
    "        ind = arg_dup(ext_pos_data[:,1])\n",
    "        mask[ind, 1] = False\n",
    "        row_mask = np.logical_or(mask[:, 0], mask[:, 1])\n",
    "        row_mask[np.logical_not(row_mask).nonzero()[0][0]] = True\n",
    "        ext_pos_data_unique = ext_pos_data[row_mask, :]\n",
    "    return np.mean(ext_pos_data_unique, axis=0)"
   ]
  },
  {
   "cell_type": "code",
   "execution_count": 148,
   "metadata": {
    "collapsed": false
   },
   "outputs": [],
   "source": [
    "centers = [img_center(f) for f in inxmlfiles]"
   ]
  },
  {
   "cell_type": "code",
   "execution_count": 150,
   "metadata": {
    "collapsed": false
   },
   "outputs": [
    {
     "data": {
      "text/plain": [
       "array([[ 45.54057171,  10.98341491],\n",
       "       [ 55.42783468,  12.70589136],\n",
       "       [ 46.89428776,  10.74465658],\n",
       "       [ 47.30777276,  12.37200586],\n",
       "       [ 45.7542157 ,   9.06261623],\n",
       "       [ 45.51117222,  12.26293361],\n",
       "       [ 20.55020712, -16.50684425],\n",
       "       [ 45.3184355 ,  11.28062347],\n",
       "       [ 39.11659376,  -8.94365982],\n",
       "       [ 48.11253227,  13.72141217],\n",
       "       [ 35.51143263,  -2.94628949]])"
      ]
     },
     "execution_count": 150,
     "metadata": {},
     "output_type": "execute_result"
    }
   ],
   "source": [
    "np.array(centers)"
   ]
  },
  {
   "cell_type": "code",
   "execution_count": 114,
   "metadata": {
    "collapsed": false
   },
   "outputs": [],
   "source": [
    "tmp = ext_pos_data[:, 0].copy()\n",
    "# tmp.sort()\n",
    "# np.diff(tmp)>1e-5"
   ]
  },
  {
   "cell_type": "code",
   "execution_count": 115,
   "metadata": {
    "collapsed": false
   },
   "outputs": [],
   "source": [
    "ind = np.argsort(tmp)"
   ]
  },
  {
   "cell_type": "code",
   "execution_count": 116,
   "metadata": {
    "collapsed": false
   },
   "outputs": [
    {
     "name": "stdout",
     "output_type": "stream",
     "text": [
      "[ 46.0468141   45.05874577  45.03474742  46.02197953  46.0468141\n",
      "  46.0468141 ]\n",
      "[ 45.03474742  45.05874577  46.02197953  46.0468141   46.0468141\n",
      "  46.0468141 ]\n",
      "[ True  True  True False False  True]\n"
     ]
    }
   ],
   "source": [
    "print tmp\n",
    "print tmp[ind]\n",
    "mask = np.append(np.diff(tmp[ind])>1e-5, True)\n",
    "print mask\n",
    "# np.diff(tmp[ind])<1e-5"
   ]
  },
  {
   "cell_type": "code",
   "execution_count": 117,
   "metadata": {
    "collapsed": false
   },
   "outputs": [
    {
     "name": "stdout",
     "output_type": "stream",
     "text": [
      "0 True\n",
      "1 False\n",
      "2 False\n",
      "3 True\n",
      "4 True\n"
     ]
    }
   ],
   "source": [
    "for i, m in enumerate(mask[-1:0:-1]):\n",
    "    print i, m\n",
    "    if not mask[-2-i]:\n",
    "        mask[-1-i] = mask[-2-i]"
   ]
  },
  {
   "cell_type": "code",
   "execution_count": null,
   "metadata": {
    "collapsed": true
   },
   "outputs": [],
   "source": []
  }
 ],
 "metadata": {
  "kernelspec": {
   "display_name": "Python 2",
   "language": "python",
   "name": "python2"
  },
  "language_info": {
   "codemirror_mode": {
    "name": "ipython",
    "version": 2
   },
   "file_extension": ".py",
   "mimetype": "text/x-python",
   "name": "python",
   "nbconvert_exporter": "python",
   "pygments_lexer": "ipython2",
   "version": "2.7.11"
  }
 },
 "nbformat": 4,
 "nbformat_minor": 0
}
