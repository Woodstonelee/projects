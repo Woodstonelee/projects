{
 "cells": [
  {
   "cell_type": "markdown",
   "metadata": {},
   "source": [
    "# Subset Landsat images of p012r030 with Sentinel-2 T19TCH bounding box"
   ]
  },
  {
   "cell_type": "code",
   "execution_count": 1,
   "metadata": {
    "collapsed": true
   },
   "outputs": [],
   "source": [
    "import sys\n",
    "\n",
    "import numpy as np\n",
    "from osgeo import gdal, gdal_array\n",
    "import ogr, os, osr\n",
    "\n",
    "import matplotlib.pyplot as plt\n",
    "%matplotlib inline"
   ]
  },
  {
   "cell_type": "code",
   "execution_count": 2,
   "metadata": {
    "collapsed": true
   },
   "outputs": [],
   "source": [
    "typemap = {}\n",
    "for name in dir(np):\n",
    "    obj = getattr(np, name)\n",
    "    if hasattr(obj, 'dtype'):\n",
    "        try:\n",
    "            npn = obj(0)\n",
    "            nat = np.asscalar(npn)\n",
    "            if gdal_array.NumericTypeCodeToGDALTypeCode(npn.dtype.type):\n",
    "                typemap[npn.dtype.name] = gdal_array.NumericTypeCodeToGDALTypeCode(npn.dtype.type)\n",
    "        except:\n",
    "            pass"
   ]
  },
  {
   "cell_type": "code",
   "execution_count": 3,
   "metadata": {
    "collapsed": true
   },
   "outputs": [],
   "source": [
    "def array2raster(newRasterfn,rasterOrigin,pixelWidth,pixelHeight,projstr,array):\n",
    "    # newRasterfn (string): file name of created raster\n",
    "    # rasterOrigin (list): [originX, originY], upper left corner of upper left pixel\n",
    "    # pixelWidth, pixelHeight (float, scalar): pixel size in X and Y directions\n",
    "    # projstr (string): string for projection, in OGC WKT or PROJ.4 format.\n",
    "    # array (2D array, numeric): array to be written to the raster\n",
    "\n",
    "    NP2GDAL_CONV = {\n",
    "      \"uint8\": 1,\n",
    "      \"int8\": 1,\n",
    "      \"uint16\": 2,\n",
    "      \"int16\": 3,\n",
    "      \"uint32\": 4,\n",
    "      \"int32\": 5,\n",
    "      \"float32\": 6,\n",
    "      \"float64\": 7,\n",
    "      \"complex64\": 10,\n",
    "      \"complex128\": 11,\n",
    "    }\n",
    "    \n",
    "    cols = array.shape[1]\n",
    "    rows = array.shape[0]\n",
    "    originX = rasterOrigin[0]\n",
    "    originY = rasterOrigin[1]\n",
    "\n",
    "    if array.dtype.name not in NP2GDAL_CONV.keys():\n",
    "        print \"GDAL raster does not support this data type: {0:s}\".format(array.dtype.name)\n",
    "        return\n",
    "    \n",
    "    driver = gdal.GetDriverByName('GTiff')\n",
    "    outRaster = driver.Create(newRasterfn, cols, rows, 1, NP2GDAL_CONV[array.dtype.name])\n",
    "    outRaster.SetGeoTransform((originX, pixelWidth, 0, originY, 0, pixelHeight))\n",
    "    outband = outRaster.GetRasterBand(1)\n",
    "    outband.WriteArray(array)\n",
    "#     outRasterSRS = osr.SpatialReference()\n",
    "#     outRasterSRS.ImportFromEPSG(4326) # WGS-84 datum\n",
    "#     outRaster.SetProjection(outRasterSRS.ExportToWkt())\n",
    "    outRaster.SetProjection(projstr)\n",
    "    outband.FlushCache()"
   ]
  },
  {
   "cell_type": "code",
   "execution_count": 7,
   "metadata": {
    "collapsed": false
   },
   "outputs": [],
   "source": [
    "def subset_image_with_bbox(img_fn, bbox, subset_img_fn, bnum=1):\n",
    "    full_imgds = gdal.Open(img_fn)\n",
    "    band1 = full_imgds.GetRasterBand(bnum)\n",
    "    gt1 = full_imgds.GetGeoTransform()\n",
    "    r1 = [gt1[0], gt1[3], gt1[0] + (gt1[1] * full_imgds.RasterXSize), gt1[3] + (gt1[5] * full_imgds.RasterYSize)]\n",
    "    left1 = int(round((bbox[0]-r1[0])/gt1[1])) # difference divided by pixel dimension\n",
    "    top1 = int(round((bbox[1]-r1[1])/gt1[5]))\n",
    "    col1 = int(round((bbox[2]-r1[0])/gt1[1])) - left1 # difference minus offset left\n",
    "    row1 = int(round((bbox[3]-r1[1])/gt1[5])) - top1\n",
    "    if col1 < 0 or row1 < 0:\n",
    "        print \"Input image has no overlap with the given bounding box!\\n\"\n",
    "        return\n",
    "    else:\n",
    "        array1 = band1.ReadAsArray(left1,top1,col1,row1)\n",
    "\n",
    "    array2raster(subset_img_fn,[left1,top1],full_imgds.RasterXSize,full_imgds.RasterYSize,full_imgds.GetProjectionRef(),array1)"
   ]
  },
  {
   "cell_type": "code",
   "execution_count": 5,
   "metadata": {
    "collapsed": true
   },
   "outputs": [],
   "source": [
    "# bbox has left, top, right, bottom of dataset's bounds in geospatial coordinates.\n",
    "bbox = [299955.0, 4800015.0, 409845.0, 4690215.0]"
   ]
  },
  {
   "cell_type": "code",
   "execution_count": 40,
   "metadata": {
    "collapsed": true
   },
   "outputs": [],
   "source": [
    "full_img_files = [ \\\n",
    "'/neponset/nbdata06/albedo/zhan.li/landsat-8/LC80120302015304LGN00/LC80120302015304LGN00_band2.tif', \\\n",
    "'/neponset/nbdata06/albedo/zhan.li/landsat-8/LC80120302015304LGN00/LC80120302015304LGN00_band3.tif', \\\n",
    "'/neponset/nbdata06/albedo/zhan.li/landsat-8/LC80120302015304LGN00/LC80120302015304LGN00_band4.tif', \\\n",
    "'/neponset/nbdata06/albedo/zhan.li/landsat-8/LC80120302015304LGN00/LC80120302015304LGN00_band5.tif', \\\n",
    "'/neponset/nbdata06/albedo/zhan.li/landsat-8/LC80120302015304LGN00/LC80120302015304LGN00_band6.tif', \\\n",
    "'/neponset/nbdata06/albedo/zhan.li/landsat-8/LC80120302015304LGN00/LC80120302015304LGN00_band7.tif' \\\n",
    "                 ]"
   ]
  },
  {
   "cell_type": "code",
   "execution_count": 41,
   "metadata": {
    "collapsed": true
   },
   "outputs": [],
   "source": [
    "for img_fn in full_img_files:\n",
    "    subset_img_fn = \"{0:s}_T19TCH_subset.tif\".format(img_fn[0:img_fn.rfind('.')])\n",
    "    subset_image_with_bbox(img_fn, bbox, subset_img_fn)"
   ]
  },
  {
   "cell_type": "code",
   "execution_count": 42,
   "metadata": {
    "collapsed": true
   },
   "outputs": [],
   "source": [
    "full_img_files = [ \\\n",
    "'/neponset/nbdata06/albedo/zhan.li/landsat-8/LC80120302015304LGN00/LC80120302015304LGN00_sr_band2.tif', \\\n",
    "'/neponset/nbdata06/albedo/zhan.li/landsat-8/LC80120302015304LGN00/LC80120302015304LGN00_sr_band3.tif', \\\n",
    "'/neponset/nbdata06/albedo/zhan.li/landsat-8/LC80120302015304LGN00/LC80120302015304LGN00_sr_band4.tif', \\\n",
    "'/neponset/nbdata06/albedo/zhan.li/landsat-8/LC80120302015304LGN00/LC80120302015304LGN00_sr_band5.tif', \\\n",
    "'/neponset/nbdata06/albedo/zhan.li/landsat-8/LC80120302015304LGN00/LC80120302015304LGN00_sr_band6.tif', \\\n",
    "'/neponset/nbdata06/albedo/zhan.li/landsat-8/LC80120302015304LGN00/LC80120302015304LGN00_sr_band7.tif' \\\n",
    "                 ]"
   ]
  },
  {
   "cell_type": "code",
   "execution_count": 43,
   "metadata": {
    "collapsed": true
   },
   "outputs": [],
   "source": [
    "for img_fn in full_img_files:\n",
    "    subset_img_fn = \"{0:s}_T19TCH_subset.tif\".format(img_fn[0:img_fn.rfind('.')])\n",
    "    subset_image_with_bbox(img_fn, bbox, subset_img_fn)"
   ]
  },
  {
   "cell_type": "code",
   "execution_count": 38,
   "metadata": {
    "collapsed": false
   },
   "outputs": [
    {
     "data": {
      "text/plain": [
       "(-0.5, 3662.5, 3659.5, -0.5)"
      ]
     },
     "execution_count": 38,
     "metadata": {},
     "output_type": "execute_result"
    },
    {
     "data": {
      "image/png": "[encoded data removed]",
      "text/plain": [
       "<matplotlib.figure.Figure at 0x7fa001de3850>"
      ]
     },
     "metadata": {},
     "output_type": "display_data"
    }
   ],
   "source": [
    "plt.imshow(array1)\n",
    "plt.axis('off')"
   ]
  },
  {
   "cell_type": "code",
   "execution_count": 7,
   "metadata": {
    "collapsed": true
   },
   "outputs": [],
   "source": [
    "full_img_files = [ \\\n",
    "'/neponset/nbdata06/albedo/zhan.li/landsat-8/LC80120302016003LGN00/LC80120302016003LGN00_toa_band2.tif', \\\n",
    "'/neponset/nbdata06/albedo/zhan.li/landsat-8/LC80120302016003LGN00/LC80120302016003LGN00_toa_band3.tif', \\\n",
    "'/neponset/nbdata06/albedo/zhan.li/landsat-8/LC80120302016003LGN00/LC80120302016003LGN00_toa_band4.tif', \\\n",
    "'/neponset/nbdata06/albedo/zhan.li/landsat-8/LC80120302016003LGN00/LC80120302016003LGN00_toa_band5.tif', \\\n",
    "'/neponset/nbdata06/albedo/zhan.li/landsat-8/LC80120302016003LGN00/LC80120302016003LGN00_toa_band6.tif', \\\n",
    "'/neponset/nbdata06/albedo/zhan.li/landsat-8/LC80120302016003LGN00/LC80120302016003LGN00_toa_band7.tif' \\\n",
    "                 ]"
   ]
  },
  {
   "cell_type": "code",
   "execution_count": 8,
   "metadata": {
    "collapsed": true
   },
   "outputs": [],
   "source": [
    "for img_fn in full_img_files:\n",
    "    subset_img_fn = \"{0:s}_T19TCH_subset.tif\".format(img_fn[0:img_fn.rfind('.')])\n",
    "    subset_image_with_bbox(img_fn, bbox, subset_img_fn)"
   ]
  },
  {
   "cell_type": "code",
   "execution_count": 11,
   "metadata": {
    "collapsed": false
   },
   "outputs": [],
   "source": [
    "landsat_albedo_file = '/neponset/nbdata06/albedo/zhan.li/landsat-8/landsat-8-albedo/LC80120302015304LGN00/lndAlbedo_P012R030_2015-304'\n",
    "subset_image_with_bbox(landsat_albedo_file, bbox, \"{0:s}_bsa_T19TCH_subset.tif\".format(landsat_albedo_file), bnum=1)\n",
    "subset_image_with_bbox(landsat_albedo_file, bbox, \"{0:s}_wsa_T19TCH_subset.tif\".format(landsat_albedo_file), bnum=2)"
   ]
  },
  {
   "cell_type": "code",
   "execution_count": 10,
   "metadata": {
    "collapsed": false
   },
   "outputs": [
    {
     "data": {
      "text/plain": [
       "'/neponset/nbdata06/albedo/zhan_wsa_T19TCH_subset.tif'"
      ]
     },
     "execution_count": 10,
     "metadata": {},
     "output_type": "execute_result"
    }
   ],
   "source": [
    "\"{0:s}_wsa_T19TCH_subset.tif\".format(landsat_albedo_file[0:landsat_albedo_file.rfind('.')])"
   ]
  },
  {
   "cell_type": "code",
   "execution_count": null,
   "metadata": {
    "collapsed": true
   },
   "outputs": [],
   "source": []
  }
 ],
 "metadata": {
  "kernelspec": {
   "display_name": "Python 2",
   "language": "python",
   "name": "python2"
  },
  "language_info": {
   "codemirror_mode": {
    "name": "ipython",
    "version": 2
   },
   "file_extension": ".py",
   "mimetype": "text/x-python",
   "name": "python",
   "nbconvert_exporter": "python",
   "pygments_lexer": "ipython2",
   "version": "2.7.11"
  }
 },
 "nbformat": 4,
 "nbformat_minor": 0
}
