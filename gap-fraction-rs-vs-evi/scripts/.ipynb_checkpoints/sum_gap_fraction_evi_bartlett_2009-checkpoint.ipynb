{
 "cells": [
  {
   "cell_type": "markdown",
   "metadata": {},
   "source": [
    "# Summary  of gap fraction from Echidna\n",
    "## Bartlett scans in 2009 summer"
   ]
  },
  {
   "cell_type": "code",
   "execution_count": 2,
   "metadata": {
    "collapsed": false
   },
   "outputs": [],
   "source": [
    "from StringIO import StringIO\n",
    "\n",
    "import numpy as np\n",
    "import pandas as pd\n",
    "\n",
    "import matplotlib.pyplot as plt\n",
    "%matplotlib inline\n",
    "\n",
    "import seaborn as sns\n",
    "sns.set_style('whitegrid')\n",
    "\n",
    "import re"
   ]
  },
  {
   "cell_type": "code",
   "execution_count": 221,
   "metadata": {
    "collapsed": false
   },
   "outputs": [],
   "source": [
    "infiles = [ \\\n",
    "\"/projectnb/echidna/lidar/EVI_Processing/Bartlett2009/bartlett-tower-2009/C/bartlett_tower_2009_c_cube_basefix_satfix_pfilter_at_project_apprefl_pgap_800_Scale_web_Fol_Prof_LAI.log\", \\\n",
    "\"/projectnb/echidna/lidar/EVI_Processing/Bartlett2009/bartlett-tower-2009/E/bartlett_tower_2009_e_cube_basefix_satfix_pfilter_at_project_apprefl_pgap_800_Scale_web_Fol_Prof_LAI.log\", \\\n",
    "\"/projectnb/echidna/lidar/EVI_Processing/Bartlett2009/bartlett-tower-2009/N/bartlett_tower_2009_n_cube_basefix_satfix_pfilter_at_project_apprefl_pgap_800_Scale_web_Fol_Prof_LAI.log\", \\\n",
    "\"/projectnb/echidna/lidar/EVI_Processing/Bartlett2009/bartlett-tower-2009/NE/bartlett_tower_2009_ne_cube_basefix_satfix_pfilter_at_project_apprefl_pgap_800_Scale_web_Fol_Prof_LAI.log\", \\\n",
    "\"/projectnb/echidna/lidar/EVI_Processing/Bartlett2009/bartlett-tower-2009/NW/bartlett_tower_2009_nw_cube_basefix_satfix_pfilter_at_project_apprefl_pgap_800_Scale_web_Fol_Prof_LAI.log\", \\\n",
    "\"/projectnb/echidna/lidar/EVI_Processing/Bartlett2009/bartlett-tower-2009/S/bartlett_tower_2009_s_cube_basefix_satfix_pfilter_at_project_apprefl_pgap_800_Scale_web_Fol_Prof_LAI.log\", \\\n",
    "\"/projectnb/echidna/lidar/EVI_Processing/Bartlett2009/bartlett-tower-2009/SE/bartlett_tower_2009_se_cube_basefix_satfix_pfilter_at_project_apprefl_pgap_800_Scale_web_Fol_Prof_LAI.log\", \\\n",
    "\"/projectnb/echidna/lidar/EVI_Processing/Bartlett2009/bartlett-tower-2009/SW/bartlett_tower_2009_sw_cube_basefix_satfix_pfilter_at_project_apprefl_pgap_800_Scale_web_Fol_Prof_LAI.log\", \\\n",
    "\"/projectnb/echidna/lidar/EVI_Processing/Bartlett2009/bartlett-tower-2009/W/bartlett_tower_2009_w_cube_basefix_satfix_pfilter_at_project_apprefl_pgap_800_Scale_web_Fol_Prof_LAI.log\"]\n",
    "\n",
    "plot_names = ['c', 'e', 'n', 'ne', 'nw', 's', 'se', 'sw', 'w']\n",
    "\n",
    "outfile = '../results/evi_gap_fraction_summary_bartlett_tower_2009_pgap_800_scale.txt'"
   ]
  },
  {
   "cell_type": "code",
   "execution_count": 224,
   "metadata": {
    "collapsed": false
   },
   "outputs": [],
   "source": [
    "# regex strings for searching data from the input files\n",
    "re_gaphead = r'.*Basic Input File Statistics.*'\n",
    "re_gaptail = r'.*EVI Height \\(m\\)\\s=.*'\n",
    "re_malai = r'MA\\sLAI\\s=\\s[0-9]*\\.?[0-9]*'\n",
    "re_reglai = r'Regression\\sLAI\\s=\\s[0-9]*\\.?[0-9]*'\n",
    "\n",
    "nfiles = len(infiles)\n",
    "nrings = 10\n",
    "gapfrac_df = pd.DataFrame(data=np.zeros((nrings, nfiles)), columns=plot_names)\n",
    "lai_df = pd.DataFrame(data=np.zeros((2, nfiles)), columns=plot_names, index=['reg_lai', 'ma_lai'])\n",
    "\n",
    "fname = infiles[0]\n",
    "for fname, pname in zip(infiles, plot_names):\n",
    "    with open(fname, 'r') as fobj:\n",
    "        fstr = fobj.read()\n",
    "        \n",
    "        # read gap fraction of all zenith rings\n",
    "        m1 = re.search(re_gaphead, fstr)\n",
    "        m2 = re.search(re_gaptail, fstr)\n",
    "        gapstr = fstr[m1.end()+1:m2.start()-1]\n",
    "        gapfrac = pd.read_csv(StringIO(unicode(gapstr)), delim_whitespace=True)\n",
    "        gapfrac.columns = [s.strip(',').lower() for s in gapfrac.columns.values]\n",
    "        gapfrac_df[pname]= gapfrac['min_pgap']\n",
    "        \n",
    "        # read LAI estimates\n",
    "        tmp_mo = re.search(re_reglai, fstr)\n",
    "        tmp_list = tmp_mo.group().split('=')\n",
    "        lai_df.loc['reg_lai', pname] = float(tmp_list[1].strip())\n",
    "        tmp_mo = re.search(re_malai, fstr)\n",
    "        tmp_list = tmp_mo.group().split('=')\n",
    "        lai_df.loc['ma_lai', pname] = float(tmp_list[1].strip())\n",
    "        \n",
    "with open(outfile, 'w') as fobj:\n",
    "    fobj.write(\"output file name: {0:s}\\n\\n\".format(outfile))\n",
    "    fobj.write(\"gap fraction of 10 zenith rings from 0 deg to 90 deg: \\n\\n\")\n",
    "    gapfrac_df.T.to_csv(fobj)\n",
    "    fobj.write('\\n')\n",
    "    fobj.write('LAI estimates: \\n')\n",
    "    fobj.write('reg_lai: regression LAI from multiple zenith rings\\n')\n",
    "    fobj.write('ma_lai: LAI from the magical angle\\n')\n",
    "    fobj.write('\\n')\n",
    "    lai_df.T.to_csv(fobj)"
   ]
  },
  {
   "cell_type": "code",
   "execution_count": 219,
   "metadata": {
    "collapsed": false,
    "scrolled": true
   },
   "outputs": [
    {
     "name": "stdout",
     "output_type": "stream",
     "text": [
      "        0      1      2      3      4      5      6      7      8      9\n",
      "c    1.58  14.32  14.02  17.19  11.14   5.96   7.22   8.09  11.37  13.21\n",
      "e   41.49   9.56   7.51  14.02   9.21   4.93   5.90   4.78   5.58   8.20\n",
      "n    1.29   1.41   3.63  24.19  26.65  28.60  20.16  12.18  17.31  25.71\n",
      "ne  73.06  56.39  10.64   6.17  13.13  17.17  15.32  14.11   6.18   8.00\n",
      "nw   0.78   7.45  15.59  10.71  12.41   7.44  15.51   6.60  19.54  26.99\n",
      "s    7.64  52.81   9.23   4.01   3.45  10.45  10.10   9.74  19.70  14.93\n",
      "se  10.44   6.80  14.24  42.01  23.67   6.47   5.83   7.06  12.04  10.11\n",
      "sw  10.52  10.72   2.22   1.33   1.79   1.36   0.44   1.39   6.14   8.49\n",
      "w    0.18   0.08  10.21  34.55  46.05  27.71   3.40  10.07  23.95  27.67\n",
      "    reg_lai  ma_lai\n",
      "c      4.76    5.42\n",
      "e      5.09    5.65\n",
      "n      4.12    4.29\n",
      "ne     4.27    4.60\n",
      "nw     4.65    4.58\n",
      "s      4.76    5.05\n",
      "se     4.70    5.66\n",
      "sw     6.75    8.50\n",
      "w      4.52    6.25\n",
      "               0          1          2          3          4          5  \\\n",
      "count   9.000000   9.000000   9.000000   9.000000   9.000000   9.000000   \n",
      "mean   16.331111  17.726667   9.698889  17.131111  16.388889  12.232222   \n",
      "std    24.853752  21.376761   4.649222  13.987059  13.802935  10.012871   \n",
      "min     0.180000   0.080000   2.220000   1.330000   1.790000   1.360000   \n",
      "25%     1.290000   6.800000   7.510000   6.170000   9.210000   5.960000   \n",
      "50%     7.640000   9.560000  10.210000  14.020000  12.410000   7.440000   \n",
      "75%    10.520000  14.320000  14.020000  24.190000  23.670000  17.170000   \n",
      "max    73.060000  56.390000  15.590000  42.010000  46.050000  28.600000   \n",
      "\n",
      "               6          7          8          9  \n",
      "count   9.000000   9.000000   9.000000   9.000000  \n",
      "mean    9.320000   8.224444  13.534444  15.923333  \n",
      "std     6.467393   3.849932   6.853616   8.485734  \n",
      "min     0.440000   1.390000   5.580000   8.000000  \n",
      "25%     5.830000   6.600000   6.180000   8.490000  \n",
      "50%     7.220000   8.090000  12.040000  13.210000  \n",
      "75%    15.320000  10.070000  19.540000  25.710000  \n",
      "max    20.160000  14.110000  23.950000  27.670000  \n",
      "        reg_lai    ma_lai\n",
      "count  9.000000  9.000000\n",
      "mean   4.846667  5.555556\n",
      "std    0.768473  1.270444\n",
      "min    4.120000  4.290000\n",
      "25%    4.520000  4.600000\n",
      "50%    4.700000  5.420000\n",
      "75%    4.760000  5.660000\n",
      "max    6.750000  8.500000\n"
     ]
    }
   ],
   "source": [
    "print gapfrac_df.T\n",
    "print lai_df.T\n",
    "print gapfrac_df.T.describe()\n",
    "print lai_df.T.describe()"
   ]
  },
  {
   "cell_type": "code",
   "execution_count": 5,
   "metadata": {
    "collapsed": false
   },
   "outputs": [],
   "source": [
    "infiles = [ \\\n",
    "\"/projectnb/echidna/lidar/EVI_Processing/Bartlett2009/bartlett-tower-2009/C/bartlett_tower_2009_c_cube_basefix_satfix_pfilter_at_project_apprefl_pgap_850_Scale_web_Fol_Prof_LAI.log\", \\\n",
    "\"/projectnb/echidna/lidar/EVI_Processing/Bartlett2009/bartlett-tower-2009/E/bartlett_tower_2009_e_cube_basefix_satfix_pfilter_at_project_apprefl_pgap_850_Scale_web_Fol_Prof_LAI.log\", \\\n",
    "\"/projectnb/echidna/lidar/EVI_Processing/Bartlett2009/bartlett-tower-2009/N/bartlett_tower_2009_n_cube_basefix_satfix_pfilter_at_project_apprefl_pgap_850_Scale_web_Fol_Prof_LAI.log\", \\\n",
    "\"/projectnb/echidna/lidar/EVI_Processing/Bartlett2009/bartlett-tower-2009/NE/bartlett_tower_2009_ne_cube_basefix_satfix_pfilter_at_project_apprefl_pgap_850_Scale_web_Fol_Prof_LAI.log\", \\\n",
    "\"/projectnb/echidna/lidar/EVI_Processing/Bartlett2009/bartlett-tower-2009/NW/bartlett_tower_2009_nw_cube_basefix_satfix_pfilter_at_project_apprefl_pgap_850_Scale_web_Fol_Prof_LAI.log\", \\\n",
    "\"/projectnb/echidna/lidar/EVI_Processing/Bartlett2009/bartlett-tower-2009/S/bartlett_tower_2009_s_cube_basefix_satfix_pfilter_at_project_apprefl_pgap_850_Scale_web_Fol_Prof_LAI.log\", \\\n",
    "\"/projectnb/echidna/lidar/EVI_Processing/Bartlett2009/bartlett-tower-2009/SE/bartlett_tower_2009_se_cube_basefix_satfix_pfilter_at_project_apprefl_pgap_850_Scale_web_Fol_Prof_LAI.log\", \\\n",
    "\"/projectnb/echidna/lidar/EVI_Processing/Bartlett2009/bartlett-tower-2009/SW/bartlett_tower_2009_sw_cube_basefix_satfix_pfilter_at_project_apprefl_pgap_850_Scale_web_Fol_Prof_LAI.log\", \\\n",
    "\"/projectnb/echidna/lidar/EVI_Processing/Bartlett2009/bartlett-tower-2009/W/bartlett_tower_2009_w_cube_basefix_satfix_pfilter_at_project_apprefl_pgap_850_Scale_web_Fol_Prof_LAI.log\"]\n",
    "\n",
    "plot_names = ['c', 'e', 'n', 'ne', 'nw', 's', 'se', 'sw', 'w']\n",
    "\n",
    "outfile = '../results/evi_gap_fraction_summary_bartlett_tower_2009_pgap_850_scale.txt'\n",
    "\n",
    "# regex strings for searching data from the input files\n",
    "re_gaphead = r'.*Basic Input File Statistics.*'\n",
    "re_gaptail = r'.*EVI Height \\(m\\)\\s=.*'\n",
    "re_malai = r'MA\\sLAI\\s=\\s[0-9]*\\.?[0-9]*'\n",
    "re_reglai = r'Regression\\sLAI\\s=\\s[0-9]*\\.?[0-9]*'\n",
    "\n",
    "nfiles = len(infiles)\n",
    "nrings = 10\n",
    "gapfrac_df = pd.DataFrame(data=np.zeros((nrings, nfiles)), columns=plot_names)\n",
    "lai_df = pd.DataFrame(data=np.zeros((2, nfiles)), columns=plot_names, index=['reg_lai', 'ma_lai'])\n",
    "\n",
    "fname = infiles[0]\n",
    "for fname, pname in zip(infiles, plot_names):\n",
    "    with open(fname, 'r') as fobj:\n",
    "        fstr = fobj.read()\n",
    "        \n",
    "        # read gap fraction of all zenith rings\n",
    "        m1 = re.search(re_gaphead, fstr)\n",
    "        m2 = re.search(re_gaptail, fstr)\n",
    "        gapstr = fstr[m1.end()+1:m2.start()-1]\n",
    "        gapfrac = pd.read_csv(StringIO(unicode(gapstr)), delim_whitespace=True)\n",
    "        gapfrac.columns = [s.strip(',').lower() for s in gapfrac.columns.values]\n",
    "        gapfrac_df[pname]= gapfrac['min_pgap']\n",
    "        \n",
    "        # read LAI estimates\n",
    "        tmp_mo = re.search(re_reglai, fstr)\n",
    "        tmp_list = tmp_mo.group().split('=')\n",
    "        lai_df.loc['reg_lai', pname] = float(tmp_list[1].strip())\n",
    "        tmp_mo = re.search(re_malai, fstr)\n",
    "        tmp_list = tmp_mo.group().split('=')\n",
    "        lai_df.loc['ma_lai', pname] = float(tmp_list[1].strip())\n",
    "        \n",
    "with open(outfile, 'w') as fobj:\n",
    "    fobj.write(\"output file name: {0:s}\\n\\n\".format(outfile))\n",
    "    fobj.write(\"gap fraction of 10 zenith rings from 0 deg to 90 deg: \\n\\n\")\n",
    "    gapfrac_df.T.to_csv(fobj)\n",
    "    fobj.write('\\n')\n",
    "    fobj.write('LAI estimates: \\n')\n",
    "    fobj.write('reg_lai: regression LAI from multiple zenith rings\\n')\n",
    "    fobj.write('ma_lai: LAI from the magical angle\\n')\n",
    "    fobj.write('\\n')\n",
    "    lai_df.T.to_csv(fobj)"
   ]
  },
  {
   "cell_type": "code",
   "execution_count": 6,
   "metadata": {
    "collapsed": false
   },
   "outputs": [
    {
     "name": "stdout",
     "output_type": "stream",
     "text": [
      "        0      1      2      3      4     5     6     7     8     9\n",
      "c    0.00   3.44   0.68   3.95   4.83  0.94  3.21  1.93  1.38  2.09\n",
      "e   28.47   6.44   5.28  10.88   5.57  1.43  2.39  0.34  0.55  0.60\n",
      "n    0.17   0.25   0.34   3.42   1.94  0.69  1.89  0.68  1.27  2.48\n",
      "ne  25.97  31.91   0.93   0.02   5.80  2.43  3.33  6.32  0.62  0.86\n",
      "nw   0.13   5.19  12.44   6.38   7.07  1.47  1.62  1.14  2.43  4.10\n",
      "s    5.56  44.25   5.67   2.46   1.71  6.78  6.27  5.26  7.86  2.87\n",
      "se   5.89   4.19  10.00  35.40  20.31  4.01  0.36  0.31  0.87  0.93\n",
      "sw   6.01   7.19   1.41   0.55   0.83  0.64  0.11  0.14  0.57  1.40\n",
      "w    0.04   0.01   3.92  10.57  11.83  2.13  0.14  0.86  2.77  4.19\n",
      "    reg_lai  ma_lai\n",
      "c      6.13    6.32\n",
      "e      6.52    6.64\n",
      "n      6.87    6.90\n",
      "ne     5.88    6.28\n",
      "nw     6.16    7.07\n",
      "s      5.30    5.58\n",
      "se     6.56    8.73\n",
      "sw     8.18    9.99\n",
      "w      6.86    9.73\n",
      "               0          1          2          3          4         5  \\\n",
      "count   9.000000   9.000000   9.000000   9.000000   9.000000  9.000000   \n",
      "mean    8.026667  11.430000   4.518889   8.181111   6.654444  2.280000   \n",
      "std    11.218894  15.612754   4.327168  10.927270   6.116225  1.989969   \n",
      "min     0.000000   0.010000   0.340000   0.020000   0.830000  0.640000   \n",
      "25%     0.130000   3.440000   0.930000   2.460000   1.940000  0.940000   \n",
      "50%     5.560000   5.190000   3.920000   3.950000   5.570000  1.470000   \n",
      "75%     6.010000   7.190000   5.670000  10.570000   7.070000  2.430000   \n",
      "max    28.470000  44.250000  12.440000  35.400000  20.310000  6.780000   \n",
      "\n",
      "              6         7         8         9  \n",
      "count  9.000000  9.000000  9.000000  9.000000  \n",
      "mean   2.146667  1.886667  2.035556  2.168889  \n",
      "std    1.978074  2.292166  2.327875  1.355972  \n",
      "min    0.110000  0.140000  0.550000  0.600000  \n",
      "25%    0.360000  0.340000  0.620000  0.930000  \n",
      "50%    1.890000  0.860000  1.270000  2.090000  \n",
      "75%    3.210000  1.930000  2.430000  2.870000  \n",
      "max    6.270000  6.320000  7.860000  4.190000  \n",
      "        reg_lai    ma_lai\n",
      "count  9.000000  9.000000\n",
      "mean   6.495556  7.471111\n",
      "std    0.803867  1.601955\n",
      "min    5.300000  5.580000\n",
      "25%    6.130000  6.320000\n",
      "50%    6.520000  6.900000\n",
      "75%    6.860000  8.730000\n",
      "max    8.180000  9.990000\n"
     ]
    }
   ],
   "source": [
    "print gapfrac_df.T\n",
    "print lai_df.T\n",
    "print gapfrac_df.T.describe()\n",
    "print lai_df.T.describe()"
   ]
  },
  {
   "cell_type": "code",
   "execution_count": null,
   "metadata": {
    "collapsed": true
   },
   "outputs": [],
   "source": []
  }
 ],
 "metadata": {
  "kernelspec": {
   "display_name": "Python 2",
   "language": "python",
   "name": "python2"
  },
  "language_info": {
   "codemirror_mode": {
    "name": "ipython",
    "version": 2
   },
   "file_extension": ".py",
   "mimetype": "text/x-python",
   "name": "python",
   "nbconvert_exporter": "python",
   "pygments_lexer": "ipython2",
   "version": "2.7.11"
  }
 },
 "nbformat": 4,
 "nbformat_minor": 0
}
